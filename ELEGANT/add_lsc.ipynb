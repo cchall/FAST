{
 "cells": [
  {
   "cell_type": "markdown",
   "id": "6b30aac5",
   "metadata": {},
   "source": [
    "# Modifies lattice before parameter files are applied"
   ]
  },
  {
   "cell_type": "code",
   "execution_count": 11,
   "id": "74e68783",
   "metadata": {},
   "outputs": [],
   "source": [
    "import numpy as np\n",
    "from sirepo import lib\n",
    "from rsbeams.rsdata.SDDS import readSDDS"
   ]
  },
  {
   "cell_type": "markdown",
   "id": "010c7ef3",
   "metadata": {},
   "source": [
    "Step 1: Just change element types\n",
    "- RFCA -> RFCW \n",
    "- SBEN -> CSRCSBEND\n",
    "- DRIF -> LSCDRIFT\n",
    "- CONDITIONAL: IF LSCDRIFT is < d meters downstream of CSRBEND -> CSRDRIFT\n",
    "\n",
    "Step 2: Edit element parameters"
   ]
  },
  {
   "cell_type": "markdown",
   "id": "315d8d3d",
   "metadata": {},
   "source": [
    "# Step 1"
   ]
  },
  {
   "cell_type": "markdown",
   "id": "f630031d",
   "metadata": {},
   "source": [
    "### loading"
   ]
  },
  {
   "cell_type": "code",
   "execution_count": 2,
   "id": "9b2d97fe",
   "metadata": {},
   "outputs": [],
   "source": [
    "from sirepo import lib\n",
    "\n",
    "# sirepo.lib cannot import just the lattice file so we put it in a dummy command file\n",
    "# dummy command file can be run to generate a twi file we get element locations from\n",
    "mref = lib.Importer('elegant').parse_file('run_file_dummy.ele')\n",
    "m = mref.copy()"
   ]
  },
  {
   "cell_type": "markdown",
   "id": "797138e6",
   "metadata": {},
   "source": [
    "# Step 1: Convert Element Types"
   ]
  },
  {
   "cell_type": "markdown",
   "id": "01592720",
   "metadata": {},
   "source": [
    "## 1. Convert Cavities"
   ]
  },
  {
   "cell_type": "code",
   "execution_count": 3,
   "id": "46f651fe",
   "metadata": {},
   "outputs": [
    {
     "data": {
      "text/plain": [
       "5"
      ]
     },
     "execution_count": 3,
     "metadata": {},
     "output_type": "execute_result"
    }
   ],
   "source": [
    "counter = 0 \n",
    "for ele in m['models']['elements']:\n",
    "    if ele['type'].lower() in ['rfca',]:\n",
    "        ele['type'] = 'RFCW'\n",
    "        counter += 1\n",
    "counter"
   ]
  },
  {
   "cell_type": "markdown",
   "id": "c6b8afb9",
   "metadata": {},
   "source": [
    "## 2. Convert all \"drifts\" to LSC drifts\n",
    "This will not change the csrdrifts immediately after BC1"
   ]
  },
  {
   "cell_type": "code",
   "execution_count": 4,
   "id": "cca7249a",
   "metadata": {},
   "outputs": [
    {
     "data": {
      "text/plain": [
       "239"
      ]
     },
     "execution_count": 4,
     "metadata": {},
     "output_type": "execute_result"
    }
   ],
   "source": [
    "counter = 0 \n",
    "for ele in m['models']['elements']:\n",
    "    if ele['type'].lower() in ['drif', 'drift',]:\n",
    "        ele['type'] = 'LSCDRIFT'\n",
    "        counter += 1\n",
    "counter"
   ]
  },
  {
   "cell_type": "markdown",
   "id": "ddcf21b3",
   "metadata": {},
   "source": [
    "## 3. Convert all Dipoles to CSRCSBENDS\n",
    "This will not change the csrdrifts immediately after BC1"
   ]
  },
  {
   "cell_type": "code",
   "execution_count": 5,
   "id": "76a3ce91",
   "metadata": {},
   "outputs": [
    {
     "data": {
      "text/plain": [
       "10"
      ]
     },
     "execution_count": 5,
     "metadata": {},
     "output_type": "execute_result"
    }
   ],
   "source": [
    "counter = 0\n",
    "for ele in m['models']['elements']:\n",
    "    if ele['type'].lower() in ['sben', 'sbend',]:\n",
    "        ele['type'] = 'CSRCSBEND'\n",
    "        counter += 1\n",
    "counter"
   ]
  },
  {
   "cell_type": "markdown",
   "id": "0067a466",
   "metadata": {},
   "source": [
    "## 3. Convert LSCDRIFTS to CSRDRIFTS Where Needed\n",
    "This will not change the csrdrifts immediately after BC1"
   ]
  },
  {
   "cell_type": "code",
   "execution_count": 31,
   "id": "2fb50782",
   "metadata": {},
   "outputs": [],
   "source": [
    "distance_threshold = 5.0\n",
    "\n",
    "sdds_file = readSDDS('dummy.twi')\n",
    "sdds_file.read()"
   ]
  },
  {
   "cell_type": "code",
   "execution_count": 56,
   "id": "5e9f59bc",
   "metadata": {},
   "outputs": [],
   "source": [
    "DEBUG = False\n",
    "def distance_to_closest(element, measure_to, sdds_file, element_instance=0, side='downstream'):\n",
    "    element_names = sdds_file.columns['ElementName'][0]\n",
    "    element_types = sdds_file.columns['ElementType'][0]\n",
    "    element_positions = sdds_file.columns['s'][0]\n",
    "    \n",
    "    try:\n",
    "        target_index = np.where(element == element_names)[0][element_instance]\n",
    "    except IndexError:\n",
    "        print(f\"Element {element} was not found in beamline\")\n",
    "        return None\n",
    "\n",
    "    target_position = element_positions[target_index]\n",
    "    if DEBUG:\n",
    "        print(\"target position\", target_position)\n",
    "    \n",
    "    measurement_indices = np.where(measure_to == element_types)[0]\n",
    "    measurement_positions = element_positions[measurement_indices]\n",
    "    if DEBUG:\n",
    "        print('measurement positions', measurement_positions)\n",
    "    \n",
    "    measurements = measurement_positions - target_position\n",
    "    \n",
    "    if side == 'upstream':\n",
    "        # Distance to closest instance of `measure_to` upstream of element\n",
    "        use_indices = np.where(measurements > 0.)\n",
    "        if use_indices[0].size < 1:\n",
    "            print('No measurements go upstream')\n",
    "            return None\n",
    "        return np.min(measurements[use_indices])\n",
    "    elif side == 'downstream':\n",
    "        # Distance to closest instance of `measure_to` upstream of element\n",
    "        use_indices = measurements[np.where(measurements < 0.)]\n",
    "        if use_indices[0].size < 1:\n",
    "            print('No measurements go downstream')\n",
    "            return None\n",
    "        return np.abs(np.min())\n",
    "    elif side == 'either':\n",
    "        # Distance to closest instance of `measure_to` upstream of element\n",
    "        return np.min(np.abs(measurements))\n",
    "    else:\n",
    "        raise ValueError('upstream, downstream or either')"
   ]
  },
  {
   "cell_type": "code",
   "execution_count": 59,
   "id": "9c1511d1",
   "metadata": {
    "collapsed": true,
    "jupyter": {
     "outputs_hidden": true
    }
   },
   "outputs": [
    {
     "name": "stdout",
     "output_type": "stream",
     "text": [
      "Element D_ACM_ESD was not found in beamline\n",
      "D_B106_X106 3.649459999999999\n",
      "D_B107_X107 2.8371249999999986\n",
      "D_B111_X111 1.299116999999999\n",
      "D_B114_HV114 0.7388770000000005\n",
      "D_B115_X115 0.7702700000000009\n",
      "D_B116_D117 0.26468700000000034\n",
      "Element D_B117_X117 was not found in beamline\n",
      "Element D_B123_X124 was not found in beamline\n",
      "Element D_B124_T124 was not found in beamline\n",
      "Element D_B502_X502 was not found in beamline\n",
      "D_B505_EID_X505_EID 2.778139999999979\n",
      "Element D_B505_X505 was not found in beamline\n",
      "D_B506_EID_X506_EID 1.6072399999999902\n",
      "Element D_B506_X506 was not found in beamline\n",
      "Element D_B507_X507 was not found in beamline\n",
      "Element D_B508_X508 was not found in beamline\n",
      "Element D_B512_X512 was not found in beamline\n",
      "Element D_B513_X513 was not found in beamline\n",
      "Element D_B514_X514 was not found in beamline\n",
      "D_B601_Q601 4.819461999999987\n",
      "D_B603_X603 1.6185419999999908\n",
      "No measurements go upstream\n",
      "No measurements go upstream\n",
      "No measurements go upstream\n",
      "No measurements go upstream\n",
      "Element D_B612_ESD_X612_ESD was not found in beamline\n",
      "No measurements go upstream\n",
      "Element D_B613_ESD_X613_ESD was not found in beamline\n",
      "No measurements go upstream\n",
      "Element D_B700_X701 was not found in beamline\n",
      "Element D_B701_Q701 was not found in beamline\n",
      "Element D_B703_X703 was not found in beamline\n",
      "Element D_CBY_LEX was not found in beamline\n",
      "D_D114_B114 0.7678920000000007\n",
      "D_D115_B115 0.9712470000000009\n",
      "D_D116_Q116 0.7234230000000004\n",
      "Element D_D122_B123 was not found in beamline\n",
      "Element D_D3_B512 was not found in beamline\n",
      "Element D_D700_B700 was not found in beamline\n",
      "Element D_D704_Q611_ESD was not found in beamline\n",
      "No measurements go upstream\n",
      "D_GV106_B106 3.728028999999999\n",
      "Element D_GV507_B507 was not found in beamline\n",
      "Element D_GV703_D704 was not found in beamline\n",
      "Element D_H502_V502 was not found in beamline\n",
      "D_H505_EID_V505_EID 3.2078899999999777\n",
      "Element D_H505_V505 was not found in beamline\n",
      "Element D_H508_B508 was not found in beamline\n",
      "Element D_H513_B513 was not found in beamline\n",
      "D_H602_Q603 2.7734869999999887\n",
      "No measurements go upstream\n",
      "No measurements go upstream\n",
      "No measurements go upstream\n",
      "Element D_H612_ESD_B612_ESD was not found in beamline\n",
      "Element D_H702_Q703 was not found in beamline\n",
      "D_HV106_GV106 3.854566999999999\n",
      "D_HV107_Q108 2.6514099999999985\n",
      "D_HV111_B111 1.4126489999999992\n",
      "D_HV113_X113 0.6023889999999996\n",
      "D_HV114_Q114 0.6952640000000008\n",
      "D_HV116_B116 0.5196420000000002\n",
      "Element D_HV124_B124 was not found in beamline\n",
      "D_INJ_BC1 0.2646869999999999\n",
      "Element D_INJ_CBY was not found in beamline\n",
      "Element D_LEX_LED was not found in beamline\n",
      "D_MK_ELEGANT_BEGIN_HV106 3.933162999999999\n",
      "D_Q106_Q107 3.259316999999999\n",
      "D_Q107_B107 2.916487999999999\n",
      "D_Q108_X108 2.3824119999999986\n",
      "D_Q109_X109 2.0004319999999987\n",
      "D_Q110_Q111 1.683701999999999\n",
      "D_Q111_HV111 1.472501999999999\n",
      "D_Q112_Q113 0.9379469999999994\n",
      "D_Q113_HV113 0.6911719999999995\n",
      "D_Q114_D115 0.26468700000000034\n",
      "D_Q115_D116 0.26468700000000034\n",
      "D_Q116_HV116 0.5555270000000005\n",
      "Element D_Q502_Q503 was not found in beamline\n",
      "Element D_Q503_Q504 was not found in beamline\n",
      "D_Q504_EID_Q505_EID 4.10760999999998\n",
      "Element D_Q504_Q505 was not found in beamline\n",
      "D_Q505_EID_H505_EID 3.4578899999999777\n",
      "Element D_Q505_H505 was not found in beamline\n",
      "Element D_Q507_Q508 was not found in beamline\n",
      "Element D_Q508_V508 was not found in beamline\n",
      "Element D_Q512_Q513 was not found in beamline\n",
      "Element D_Q513_V513 was not found in beamline\n",
      "D_Q601_X602 4.251844999999989\n",
      "D_Q602_H602 3.0377869999999945\n",
      "D_Q603_B603 1.6980409999999893\n",
      "No measurements go upstream\n",
      "No measurements go upstream\n",
      "No measurements go upstream\n",
      "No measurements go upstream\n",
      "Element D_Q611_ESD_Q612_ESD was not found in beamline\n",
      "No measurements go upstream\n",
      "Element D_Q612_ESD_V612_ESD was not found in beamline\n",
      "No measurements go upstream\n",
      "Element D_Q701_X702 was not found in beamline\n",
      "Element D_Q702_H702 was not found in beamline\n",
      "Element D_Q703_B703 was not found in beamline\n",
      "Element D_T124_W124 was not found in beamline\n",
      "No measurements go upstream\n",
      "Element D_T612_ESD_B613_ESD was not found in beamline\n",
      "Element D_V502_Q502 was not found in beamline\n",
      "Element D_V505_B505 was not found in beamline\n",
      "D_V505_EID_B505_EID 2.89673999999998\n",
      "Element D_V508_H508 was not found in beamline\n",
      "Element D_V513_H513 was not found in beamline\n",
      "D_V602_Q602 3.7964739999999892\n",
      "No measurements go upstream\n",
      "No measurements go upstream\n",
      "Element D_V612_ESD_H612_ESD was not found in beamline\n",
      "No measurements go upstream\n",
      "Element D_V702_Q702 was not found in beamline\n",
      "D_X106_Q106 3.460732999999999\n",
      "D_X107_HV107 2.7403949999999986\n",
      "D_X108_Q109 2.269416999999999\n",
      "D_X109_Q110 1.8874469999999985\n",
      "D_X111_Q112 1.138603999999999\n",
      "D_X113_B113 0.5246529999999998\n",
      "D_X115_Q115 0.6825230000000007\n",
      "Element D_X124_HV124 was not found in beamline\n",
      "Element D_X502_H502 was not found in beamline\n",
      "Element D_X505_B506 was not found in beamline\n",
      "D_X505_EID_B506_EID 1.6867399999999861\n",
      "D_X506_EID_D600 1.280463999999995\n",
      "Element D_X506_GV507 was not found in beamline\n",
      "Element D_X507_Q507 was not found in beamline\n",
      "Element D_X508_B512 was not found in beamline\n",
      "Element D_X508_D0 was not found in beamline\n",
      "Element D_X512_Q512 was not found in beamline\n",
      "Element D_X513_B514 was not found in beamline\n",
      "Element D_X514_D700 was not found in beamline\n",
      "D_X601_B601 4.947467999999986\n",
      "D_X602_V602 4.002850999999993\n",
      "D_X603_D604 1.2915129999999948\n",
      "No measurements go upstream\n",
      "No measurements go upstream\n",
      "No measurements go upstream\n",
      "No measurements go upstream\n",
      "Element D_X612_ESD_T612_ESD was not found in beamline\n",
      "No measurements go upstream\n",
      "Element D_X613_ESD_MK_END_FLANGE_ESD was not found in beamline\n",
      "No measurements go upstream\n",
      "Element D_X701_B701 was not found in beamline\n",
      "Element D_X702_V702 was not found in beamline\n",
      "Element D_X703_GV703 was not found in beamline\n",
      "Element ICS_D0 was not found in beamline\n",
      "Element ICS_D1 was not found in beamline\n",
      "Element ICS_D2 was not found in beamline\n",
      "Element ICS_D3 was not found in beamline\n"
     ]
    },
    {
     "data": {
      "text/plain": [
       "54"
      ]
     },
     "execution_count": 59,
     "metadata": {},
     "output_type": "execute_result"
    }
   ],
   "source": [
    "counter = 0\n",
    "for ele in m['models']['elements']:\n",
    "    if ele['type'].lower() in ['lscdrift',]:\n",
    "        distance_to_closest_dip = distance_to_closest(ele['name'], 'SBEN', sdds_file, side='upstream')\n",
    "        if distance_to_closest_dip and distance_to_closest_dip < distance_threshold:\n",
    "            print(ele['name'], distance_to_closest_dip)\n",
    "            ele['type'] = 'CSRDRIFT'\n",
    "            counter += 1\n",
    "counter"
   ]
  },
  {
   "cell_type": "markdown",
   "id": "0c94af0a",
   "metadata": {},
   "source": [
    "# Step 2: Apply Element Parameters"
   ]
  },
  {
   "cell_type": "markdown",
   "id": "d9621942",
   "metadata": {},
   "source": [
    "## Settings for LSC up through BC1"
   ]
  },
  {
   "cell_type": "code",
   "execution_count": 73,
   "id": "c670f07c",
   "metadata": {},
   "outputs": [],
   "source": [
    "# Common settings\n",
    "high_freq_cutoff0 = -1\n",
    "high_freq_cutoff1 = -1\n",
    "lsc_bins = 1024"
   ]
  },
  {
   "cell_type": "code",
   "execution_count": 74,
   "id": "e945e60f",
   "metadata": {},
   "outputs": [],
   "source": [
    "# cavity settings\n",
    "rfcw_settings = {\n",
    "    'N_KICKS': 100,\n",
    "#     'SMOOTHING': ,  # Not sure if this is needed. Have not used it in past.\n",
    "    'LSC': 1,\n",
    "    'LSC_BINS': lsc_bins,\n",
    "#     'LSC_LOW_FREQUENCY_CUTOFF0' ,  # Normally not needed\n",
    "#     'LSC_LOW_FREQUENCY_CUTOFF1' ,  # Normally not needed\n",
    "    'LSC_HIGH_FREQUENCY_CUTOFF0': high_freq_cutoff0,\n",
    "    'LSC_HIGH_FREQUENCY_CUTOFF1': high_freq_cutoff1,\n",
    "}\n",
    "\n",
    "lscdrift_settings = {\n",
    "#     'SMOOTHING': ,  # Not sure if this is needed. Have not used it in past.\n",
    "    'LSC': 1,\n",
    "    'BINS': lsc_bins,\n",
    "#     'LOW_FREQUENCY_CUTOFF0' ,  # Normally not needed\n",
    "#     'LOW_FREQUENCY_CUTOFF1' ,  # Normally not needed\n",
    "    'HIGH_FREQUENCY_CUTOFF0': high_freq_cutoff0,\n",
    "    'HIGH_FREQUENCY_CUTOFF1': high_freq_cutoff1,\n",
    "}\n",
    "\n",
    "csrcsbend_settings = {\n",
    "    'N_SLICES': 25,\n",
    "    'BINS': 1024,\n",
    "    'SG_HALFWIDTH': 1\n",
    "}\n",
    "\n",
    "csrdrift_settings = {\n",
    "    'DZ': 0.01,\n",
    "    'USE_STUPAKOV': 1,\n",
    "    'LSC_BINS': lsc_bins,\n",
    "    'HIGH_FREQUENCY_CUTOFF0': high_freq_cutoff0,\n",
    "    'HIGH_FREQUENCY_CUTOFF1': high_freq_cutoff1,\n",
    "}"
   ]
  },
  {
   "cell_type": "markdown",
   "id": "ff43e65e",
   "metadata": {},
   "source": [
    "# MODIFY BEAMLINE PARAMETERS\n",
    "Main beamline is  `INJ_BC1_EPD`"
   ]
  },
  {
   "cell_type": "code",
   "execution_count": 60,
   "id": "ccc26f45",
   "metadata": {},
   "outputs": [],
   "source": [
    "beamline_name = 'INJ_BC1_EPD'"
   ]
  },
  {
   "cell_type": "code",
   "execution_count": 61,
   "id": "836a4089",
   "metadata": {},
   "outputs": [],
   "source": [
    "target_beamline_index = None"
   ]
  },
  {
   "cell_type": "code",
   "execution_count": 63,
   "id": "5573f5c9",
   "metadata": {},
   "outputs": [],
   "source": [
    "for i, line in enumerate(m['models']['beamlines']):\n",
    "    if line['name'].lower() == beamline_name.lower():\n",
    "        target_beamline_index = i\n",
    "        break\n",
    "else:\n",
    "    print(\"not found\")"
   ]
  },
  {
   "cell_type": "code",
   "execution_count": 64,
   "id": "9e865707",
   "metadata": {},
   "outputs": [
    {
     "data": {
      "text/plain": [
       "{'name': 'INJ_BC1_EPD', 'id': 547, 'items': [546, 537, 526]}"
      ]
     },
     "execution_count": 64,
     "metadata": {},
     "output_type": "execute_result"
    }
   ],
   "source": [
    "m['models']['beamlines'][target_beamline_index]"
   ]
  },
  {
   "cell_type": "markdown",
   "id": "06fc941e",
   "metadata": {},
   "source": [
    "items in `m['models']['beamlines'][target_beamline_index]` refer to `id` numbers that might be in beamlines or elements needs to recursively go through all elements and modify"
   ]
  },
  {
   "cell_type": "markdown",
   "id": "84711b4e",
   "metadata": {},
   "source": [
    "Should have done this before but I'll generate a mapping of index in beamlines and elements to `id` and `_id` respectively and inverse to prevent more looping lookups"
   ]
  },
  {
   "cell_type": "code",
   "execution_count": 65,
   "id": "8db5ca1d",
   "metadata": {},
   "outputs": [],
   "source": [
    "beamline_map = {}  # m['models']['beamlines'] index to id\n",
    "element_map = {} # m['models']['elements'] index to _id"
   ]
  },
  {
   "cell_type": "code",
   "execution_count": 66,
   "id": "d6470631",
   "metadata": {},
   "outputs": [],
   "source": [
    "for i,line in enumerate(m['models']['beamlines']):\n",
    "    beamline_map[i] = line['id']"
   ]
  },
  {
   "cell_type": "code",
   "execution_count": 67,
   "id": "f1845a9a",
   "metadata": {},
   "outputs": [],
   "source": [
    "for i, element in enumerate(m['models']['elements']):\n",
    "    element_map[i] = element['_id']"
   ]
  },
  {
   "cell_type": "code",
   "execution_count": 68,
   "id": "38bab5f9",
   "metadata": {},
   "outputs": [],
   "source": [
    "inv_beamline_map = {v:k for k,v in beamline_map.items()}\n",
    "inv_element_map = {v:k for k,v in element_map.items()}"
   ]
  },
  {
   "cell_type": "code",
   "execution_count": 69,
   "id": "3a1d357d",
   "metadata": {},
   "outputs": [],
   "source": [
    "def edit_elements(model, beamline_index, lscdrift_modification=None, rcfw_modification=None, \n",
    "                  csrdrift_modification=None, csrcsbend_modification=None):\n",
    "    # Hardcoded to edit LSC items here\n",
    "    \n",
    "    for comp in model['models']['beamlines'][beamline_index]['items']:\n",
    "        # Is an element - check to edit\n",
    "        if comp in inv_element_map:\n",
    "            element = model['models']['elements'][inv_element_map[comp]]\n",
    "            if element['type']  == 'RFCW':\n",
    "                if rcfw_modification:\n",
    "                    for k, v in rcfw_modification.items():\n",
    "                        element[k.lower()] = v\n",
    "                else:\n",
    "                    print(element)\n",
    "            elif element['type'] == 'LSCDRIFT':\n",
    "                if lscdrift_modification:\n",
    "                    for k, v in lscdrift_modification.items():\n",
    "                        element[k.lower()] = v\n",
    "                        element['cell_length'] = element['l']\n",
    "                else:\n",
    "                    print(element)\n",
    "            elif element['type'] == 'CSRDRIFT':\n",
    "                if csrdrift_modification:\n",
    "                    for k, v in csrdrift_modification.items():\n",
    "                        element[k.lower()] = v\n",
    "                else:\n",
    "                    print(element)\n",
    "            elif element['type'] == 'CSRCSBEND':\n",
    "                if csrcsbend_modification:\n",
    "                    for k, v in csrcsbend_modification.items():\n",
    "                        element[k.lower()] = v\n",
    "                else:\n",
    "                    print(element)\n",
    "\n",
    "        elif comp in inv_beamline_map:\n",
    "            new_index = inv_beamline_map[comp]\n",
    "            edit_elements(model, new_index, \n",
    "                          lscdrift_modification=lscdrift_modification, rcfw_modification=rcfw_modification,\n",
    "                          csrdrift_modification=csrdrift_modification, csrcsbend_modification=csrcsbend_modification)\n",
    "            "
   ]
  },
  {
   "cell_type": "code",
   "execution_count": 75,
   "id": "024f9dd6",
   "metadata": {},
   "outputs": [],
   "source": [
    "# Edits elements\n",
    "edit_elements(m, target_beamline_index, lscdrift_modification=lscdrift_settings, rcfw_modification=rfcw_settings,\n",
    "              csrdrift_modification=csrdrift_settings, csrcsbend_modification=csrcsbend_settings)"
   ]
  },
  {
   "cell_type": "code",
   "execution_count": 76,
   "id": "dcc7cbe3",
   "metadata": {
    "collapsed": true,
    "jupyter": {
     "outputs_hidden": true
    }
   },
   "outputs": [
    {
     "name": "stdout",
     "output_type": "stream",
     "text": [
      "{'_id': 6, 'type': 'CSRDRIFT', 'name': 'D_MK_ELEGANT_BEGIN_HV106', 'l': 0.125917, 'order': 0.0, 'group': '', 'dz': 0.01, 'use_stupakov': 1, 'lsc_bins': 1024, 'high_frequency_cutoff0': -1, 'high_frequency_cutoff1': -1}\n",
      "{'_id': 7, 'type': 'CSRDRIFT', 'name': 'D_HV106_GV106', 'l': 0.078596, 'order': 0.0, 'group': '', 'dz': 0.01, 'use_stupakov': 1, 'lsc_bins': 1024, 'high_frequency_cutoff0': -1, 'high_frequency_cutoff1': -1}\n",
      "{'_id': 8, 'type': 'CSRDRIFT', 'name': 'D_GV106_B106', 'l': 0.126538, 'order': 0.0, 'group': '', 'dz': 0.01, 'use_stupakov': 1, 'lsc_bins': 1024, 'high_frequency_cutoff0': -1, 'high_frequency_cutoff1': -1}\n",
      "{'_id': 9, 'type': 'CSRDRIFT', 'name': 'D_B106_X106', 'l': 0.078569, 'order': 0.0, 'group': '', 'dz': 0.01, 'use_stupakov': 1, 'lsc_bins': 1024, 'high_frequency_cutoff0': -1, 'high_frequency_cutoff1': -1}\n",
      "{'_id': 10, 'type': 'CSRDRIFT', 'name': 'D_X106_Q106', 'l': 0.188727, 'order': 0.0, 'group': '', 'dz': 0.01, 'use_stupakov': 1, 'lsc_bins': 1024, 'high_frequency_cutoff0': -1, 'high_frequency_cutoff1': -1}\n",
      "{'_id': 11, 'type': 'CSRDRIFT', 'name': 'D_Q106_Q107', 'l': 0.034416, 'order': 0.0, 'group': '', 'dz': 0.01, 'use_stupakov': 1, 'lsc_bins': 1024, 'high_frequency_cutoff0': -1, 'high_frequency_cutoff1': -1}\n",
      "{'_id': 12, 'type': 'CSRDRIFT', 'name': 'D_Q107_B107', 'l': 0.175829, 'order': 0.0, 'group': '', 'dz': 0.01, 'use_stupakov': 1, 'lsc_bins': 1024, 'high_frequency_cutoff0': -1, 'high_frequency_cutoff1': -1}\n",
      "{'_id': 13, 'type': 'CSRDRIFT', 'name': 'D_B107_X107', 'l': 0.079363, 'order': 0.0, 'group': '', 'dz': 0.01, 'use_stupakov': 1, 'lsc_bins': 1024, 'high_frequency_cutoff0': -1, 'high_frequency_cutoff1': -1}\n",
      "{'_id': 14, 'type': 'CSRDRIFT', 'name': 'D_X107_HV107', 'l': 0.09673, 'order': 0.0, 'group': '', 'dz': 0.01, 'use_stupakov': 1, 'lsc_bins': 1024, 'high_frequency_cutoff0': -1, 'high_frequency_cutoff1': -1}\n",
      "{'_id': 15, 'type': 'CSRDRIFT', 'name': 'D_HV107_Q108', 'l': 0.088985, 'order': 0.0, 'group': '', 'dz': 0.01, 'use_stupakov': 1, 'lsc_bins': 1024, 'high_frequency_cutoff0': -1, 'high_frequency_cutoff1': -1}\n",
      "{'_id': 16, 'type': 'CSRDRIFT', 'name': 'D_Q108_X108', 'l': 0.101998, 'order': 0.0, 'group': '', 'dz': 0.01, 'use_stupakov': 1, 'lsc_bins': 1024, 'high_frequency_cutoff0': -1, 'high_frequency_cutoff1': -1}\n",
      "{'_id': 17, 'type': 'CSRDRIFT', 'name': 'D_X108_Q109', 'l': 0.112995, 'order': 0.0, 'group': '', 'dz': 0.01, 'use_stupakov': 1, 'lsc_bins': 1024, 'high_frequency_cutoff0': -1, 'high_frequency_cutoff1': -1}\n",
      "{'_id': 18, 'type': 'CSRDRIFT', 'name': 'D_Q109_X109', 'l': 0.101985, 'order': 0.0, 'group': '', 'dz': 0.01, 'use_stupakov': 1, 'lsc_bins': 1024, 'high_frequency_cutoff0': -1, 'high_frequency_cutoff1': -1}\n",
      "{'_id': 19, 'type': 'CSRDRIFT', 'name': 'D_X109_Q110', 'l': 0.112985, 'order': 0.0, 'group': '', 'dz': 0.01, 'use_stupakov': 1, 'lsc_bins': 1024, 'high_frequency_cutoff0': -1, 'high_frequency_cutoff1': -1}\n",
      "{'_id': 20, 'type': 'CSRDRIFT', 'name': 'D_Q110_Q111', 'l': 0.036745, 'order': 0.0, 'group': '', 'dz': 0.01, 'use_stupakov': 1, 'lsc_bins': 1024, 'high_frequency_cutoff0': -1, 'high_frequency_cutoff1': -1}\n",
      "{'_id': 21, 'type': 'CSRDRIFT', 'name': 'D_Q111_HV111', 'l': 0.0442, 'order': 0.0, 'group': '', 'dz': 0.01, 'use_stupakov': 1, 'lsc_bins': 1024, 'high_frequency_cutoff0': -1, 'high_frequency_cutoff1': -1}\n",
      "{'_id': 22, 'type': 'CSRDRIFT', 'name': 'D_HV111_B111', 'l': 0.059853, 'order': 0.0, 'group': '', 'dz': 0.01, 'use_stupakov': 1, 'lsc_bins': 1024, 'high_frequency_cutoff0': -1, 'high_frequency_cutoff1': -1}\n",
      "{'_id': 23, 'type': 'CSRDRIFT', 'name': 'D_B111_X111', 'l': 0.113532, 'order': 0.0, 'group': '', 'dz': 0.01, 'use_stupakov': 1, 'lsc_bins': 1024, 'high_frequency_cutoff0': -1, 'high_frequency_cutoff1': -1}\n",
      "{'_id': 24, 'type': 'CSRDRIFT', 'name': 'D_X111_Q112', 'l': 0.160513, 'order': 0.0, 'group': '', 'dz': 0.01, 'use_stupakov': 1, 'lsc_bins': 1024, 'high_frequency_cutoff0': -1, 'high_frequency_cutoff1': -1}\n",
      "{'_id': 25, 'type': 'CSRDRIFT', 'name': 'D_Q112_Q113', 'l': 0.033657, 'order': 0.0, 'group': '', 'dz': 0.01, 'use_stupakov': 1, 'lsc_bins': 1024, 'high_frequency_cutoff0': -1, 'high_frequency_cutoff1': -1}\n",
      "{'_id': 26, 'type': 'CSRDRIFT', 'name': 'D_Q113_HV113', 'l': 0.079775, 'order': 0.0, 'group': '', 'dz': 0.01, 'use_stupakov': 1, 'lsc_bins': 1024, 'high_frequency_cutoff0': -1, 'high_frequency_cutoff1': -1}\n",
      "{'_id': 27, 'type': 'CSRDRIFT', 'name': 'D_HV113_X113', 'l': 0.088783, 'order': 0.0, 'group': '', 'dz': 0.01, 'use_stupakov': 1, 'lsc_bins': 1024, 'high_frequency_cutoff0': -1, 'high_frequency_cutoff1': -1}\n",
      "{'_id': 28, 'type': 'CSRDRIFT', 'name': 'D_X113_B113', 'l': 0.077736, 'order': 0.0, 'group': '', 'dz': 0.01, 'use_stupakov': 1, 'lsc_bins': 1024, 'high_frequency_cutoff0': -1, 'high_frequency_cutoff1': -1}\n",
      "{'_id': 529, 'type': 'CSRDRIFT', 'name': 'D_INJ_BC1', 'l': 0.259966, 'order': 0.0, 'group': '', 'dz': 0.01, 'use_stupakov': 1, 'lsc_bins': 1024, 'high_frequency_cutoff0': -1, 'high_frequency_cutoff1': -1}\n",
      "{'_id': 73, 'type': 'CSRCSBEND', 'name': 'D114', 'l': 0.264687, 'angle': 0.314159, 'e1': 0.15708, 'e2': 0.15708, 'hgap': 0.058, 'fint': 0.37, 'k1': 0.0, 'tilt': 0.0, 'k2': 0.0, 'h1': 0.0, 'h2': 0.0, 'dx': 0.0, 'dy': 0.0, 'dz': 0.0, 'fse': 0.0, 'fse_dipole': 0.0, 'fse_quadrupole': 0.0, 'etilt': 0.0, 'etilt_sign': '1', 'edge1_effects': '1', 'edge2_effects': '1', 'order': 0.0, 'edge_order': 0.0, 'transport': '0', 'use_bn': '0', 'b1': 0.0, 'b2': 0.0, 'group': '', 'n_slices': 25, 'bins': 1024, 'sg_halfwidth': 1}\n",
      "{'_id': 60, 'type': 'CSRDRIFT', 'name': 'D_D114_B114', 'l': 0.254474, 'order': 0.0, 'group': '', 'dz': 0.01, 'use_stupakov': 1, 'lsc_bins': 1024, 'high_frequency_cutoff0': -1, 'high_frequency_cutoff1': -1}\n",
      "{'_id': 61, 'type': 'CSRDRIFT', 'name': 'D_B114_HV114', 'l': 0.029015, 'order': 0.0, 'group': '', 'dz': 0.01, 'use_stupakov': 1, 'lsc_bins': 1024, 'high_frequency_cutoff0': -1, 'high_frequency_cutoff1': -1}\n",
      "{'_id': 62, 'type': 'CSRDRIFT', 'name': 'D_HV114_Q114', 'l': 0.043613, 'order': 0.0, 'group': '', 'dz': 0.01, 'use_stupakov': 1, 'lsc_bins': 1024, 'high_frequency_cutoff0': -1, 'high_frequency_cutoff1': -1}\n",
      "{'_id': 63, 'type': 'CSRDRIFT', 'name': 'D_Q114_D115', 'l': 0.302577, 'order': 0.0, 'group': '', 'dz': 0.01, 'use_stupakov': 1, 'lsc_bins': 1024, 'high_frequency_cutoff0': -1, 'high_frequency_cutoff1': -1}\n",
      "{'_id': 77, 'type': 'CSRCSBEND', 'name': 'D115', 'l': 0.264687, 'angle': -0.314159, 'e1': -0.15708, 'e2': -0.15708, 'hgap': 0.058, 'fint': 0.37, 'k1': 0.0, 'tilt': 0.0, 'k2': 0.0, 'h1': 0.0, 'h2': 0.0, 'dx': 0.0, 'dy': 0.0, 'dz': 0.0, 'fse': 0.0, 'fse_dipole': 0.0, 'fse_quadrupole': 0.0, 'etilt': 0.0, 'etilt_sign': '1', 'edge1_effects': '1', 'edge2_effects': '1', 'order': 0.0, 'edge_order': 0.0, 'transport': '0', 'use_bn': '0', 'b1': 0.0, 'b2': 0.0, 'group': '', 'n_slices': 25, 'bins': 1024, 'sg_halfwidth': 1}\n",
      "{'_id': 64, 'type': 'CSRDRIFT', 'name': 'D_D115_B115', 'l': 0.250891, 'order': 0.0, 'group': '', 'dz': 0.01, 'use_stupakov': 1, 'lsc_bins': 1024, 'high_frequency_cutoff0': -1, 'high_frequency_cutoff1': -1}\n",
      "{'_id': 65, 'type': 'CSRDRIFT', 'name': 'D_B115_X115', 'l': 0.200977, 'order': 0.0, 'group': '', 'dz': 0.01, 'use_stupakov': 1, 'lsc_bins': 1024, 'high_frequency_cutoff0': -1, 'high_frequency_cutoff1': -1}\n",
      "{'_id': 66, 'type': 'CSRDRIFT', 'name': 'D_X115_Q115', 'l': 0.087747, 'order': 0.0, 'group': '', 'dz': 0.01, 'use_stupakov': 1, 'lsc_bins': 1024, 'high_frequency_cutoff0': -1, 'high_frequency_cutoff1': -1}\n",
      "{'_id': 67, 'type': 'CSRDRIFT', 'name': 'D_Q115_D116', 'l': 0.289836, 'order': 0.0, 'group': '', 'dz': 0.01, 'use_stupakov': 1, 'lsc_bins': 1024, 'high_frequency_cutoff0': -1, 'high_frequency_cutoff1': -1}\n",
      "{'_id': 82, 'type': 'CSRCSBEND', 'name': 'D116', 'l': 0.264687, 'angle': -0.314159, 'e1': -0.15708, 'e2': -0.15708, 'hgap': 0.058, 'fint': 0.37, 'k1': 0.0, 'tilt': 0.0, 'k2': 0.0, 'h1': 0.0, 'h2': 0.0, 'dx': 0.0, 'dy': 0.0, 'dz': 0.0, 'fse': 0.0, 'fse_dipole': 0.0, 'fse_quadrupole': 0.0, 'etilt': 0.0, 'etilt_sign': '1', 'edge1_effects': '1', 'edge2_effects': '1', 'order': 0.0, 'edge_order': 0.0, 'transport': '0', 'use_bn': '0', 'b1': 0.0, 'b2': 0.0, 'group': '', 'n_slices': 25, 'bins': 1024, 'sg_halfwidth': 1}\n",
      "{'_id': 68, 'type': 'CSRDRIFT', 'name': 'D_D116_Q116', 'l': 0.297854, 'order': 0.0, 'group': '', 'dz': 0.01, 'use_stupakov': 1, 'lsc_bins': 1024, 'high_frequency_cutoff0': -1, 'high_frequency_cutoff1': -1}\n",
      "{'_id': 69, 'type': 'CSRDRIFT', 'name': 'D_Q116_HV116', 'l': 0.039896, 'order': 0.0, 'group': '', 'dz': 0.01, 'use_stupakov': 1, 'lsc_bins': 1024, 'high_frequency_cutoff0': -1, 'high_frequency_cutoff1': -1}\n",
      "{'_id': 70, 'type': 'CSRDRIFT', 'name': 'D_HV116_B116', 'l': 0.035885, 'order': 0.0, 'group': '', 'dz': 0.01, 'use_stupakov': 1, 'lsc_bins': 1024, 'high_frequency_cutoff0': -1, 'high_frequency_cutoff1': -1}\n",
      "{'_id': 71, 'type': 'CSRDRIFT', 'name': 'D_B116_D117', 'l': 0.254955, 'order': 0.0, 'group': '', 'dz': 0.01, 'use_stupakov': 1, 'lsc_bins': 1024, 'high_frequency_cutoff0': -1, 'high_frequency_cutoff1': -1}\n",
      "{'_id': 87, 'type': 'CSRCSBEND', 'name': 'D117', 'l': 0.264687, 'angle': 0.314159, 'e1': 0.15708, 'e2': 0.15708, 'hgap': 0.058, 'fint': 0.37, 'k1': 0.0, 'tilt': 0.0, 'k2': 0.0, 'h1': 0.0, 'h2': 0.0, 'dx': 0.0, 'dy': 0.0, 'dz': 0.0, 'fse': 0.0, 'fse_dipole': 0.0, 'fse_quadrupole': 0.0, 'etilt': 0.0, 'etilt_sign': '1', 'edge1_effects': '1', 'edge2_effects': '1', 'order': 0.0, 'edge_order': 0.0, 'transport': '0', 'use_bn': '0', 'b1': 0.0, 'b2': 0.0, 'group': '', 'n_slices': 25, 'bins': 1024, 'sg_halfwidth': 1}\n",
      "{'_id': 530, 'type': 'LSCDRIFT', 'name': 'D_BC1_LEX', 'l': 0.327761, 'order': 0.0, 'group': '', 'lsc': 1, 'bins': 1024, 'high_frequency_cutoff0': -1, 'high_frequency_cutoff1': -1}\n",
      "{'_id': 97, 'type': 'LSCDRIFT', 'name': 'D_HV118_X118', 'l': 0.087583, 'order': 0.0, 'group': '', 'lsc': 1, 'bins': 1024, 'high_frequency_cutoff0': -1, 'high_frequency_cutoff1': -1}\n",
      "{'_id': 98, 'type': 'LSCDRIFT', 'name': 'D_X118_B118', 'l': 0.079581, 'order': 0.0, 'group': '', 'lsc': 1, 'bins': 1024, 'high_frequency_cutoff0': -1, 'high_frequency_cutoff1': -1}\n",
      "{'_id': 99, 'type': 'LSCDRIFT', 'name': 'D_B118_Q118', 'l': 0.074298, 'order': 0.0, 'group': '', 'lsc': 1, 'bins': 1024, 'high_frequency_cutoff0': -1, 'high_frequency_cutoff1': -1}\n",
      "{'_id': 100, 'type': 'LSCDRIFT', 'name': 'D_Q118_Q119', 'l': 0.030607, 'order': 0.0, 'group': '', 'lsc': 1, 'bins': 1024, 'high_frequency_cutoff0': -1, 'high_frequency_cutoff1': -1}\n",
      "{'_id': 101, 'type': 'LSCDRIFT', 'name': 'D_Q119_Q120', 'l': 0.038279, 'order': 0.0, 'group': '', 'lsc': 1, 'bins': 1024, 'high_frequency_cutoff0': -1, 'high_frequency_cutoff1': -1}\n",
      "{'_id': 102, 'type': 'LSCDRIFT', 'name': 'D_Q120_HV120', 'l': 0.058205, 'order': 0.0, 'group': '', 'lsc': 1, 'bins': 1024, 'high_frequency_cutoff0': -1, 'high_frequency_cutoff1': -1}\n",
      "{'_id': 103, 'type': 'LSCDRIFT', 'name': 'D_HV120_B120', 'l': 0.0545, 'order': 0.0, 'group': '', 'lsc': 1, 'bins': 1024, 'high_frequency_cutoff0': -1, 'high_frequency_cutoff1': -1}\n",
      "{'_id': 104, 'type': 'LSCDRIFT', 'name': 'D_B120_X120', 'l': 0.119484, 'order': 0.0, 'group': '', 'lsc': 1, 'bins': 1024, 'high_frequency_cutoff0': -1, 'high_frequency_cutoff1': -1}\n",
      "{'_id': 105, 'type': 'LSCDRIFT', 'name': 'D_X120_BAM121', 'l': 0.365898, 'order': 0.0, 'group': '', 'lsc': 1, 'bins': 1024, 'high_frequency_cutoff0': -1, 'high_frequency_cutoff1': -1}\n",
      "{'_id': 106, 'type': 'LSCDRIFT', 'name': 'D_BAM121_H2', 'l': 0.07342, 'order': 0.0, 'group': '', 'lsc': 1, 'bins': 1024, 'high_frequency_cutoff0': -1, 'high_frequency_cutoff1': -1}\n",
      "{'_id': 107, 'type': 'LSCDRIFT', 'name': 'D_H2_T121', 'l': 0.22311, 'order': 0.0, 'group': '', 'lsc': 1, 'bins': 1024, 'high_frequency_cutoff0': -1, 'high_frequency_cutoff1': -1}\n",
      "{'_id': 108, 'type': 'LSCDRIFT', 'name': 'D_T121_B121', 'l': 0.079068, 'order': 0.0, 'group': '', 'lsc': 1, 'bins': 1024, 'high_frequency_cutoff0': -1, 'high_frequency_cutoff1': -1}\n",
      "{'_id': 109, 'type': 'LSCDRIFT', 'name': 'D_B121_X121', 'l': 0.078867, 'order': 0.0, 'group': '', 'lsc': 1, 'bins': 1024, 'high_frequency_cutoff0': -1, 'high_frequency_cutoff1': -1}\n",
      "{'_id': 110, 'type': 'LSCDRIFT', 'name': 'D_X121_G121', 'l': 0.328778, 'order': 0.0, 'group': '', 'lsc': 1, 'bins': 1024, 'high_frequency_cutoff0': -1, 'high_frequency_cutoff1': -1}\n",
      "{'_id': 111, 'type': 'LSCDRIFT', 'name': 'D_G121_B122', 'l': 0.403951, 'order': 0.0, 'group': '', 'lsc': 1, 'bins': 1024, 'high_frequency_cutoff0': -1, 'high_frequency_cutoff1': -1}\n",
      "{'_id': 532, 'type': 'LSCDRIFT', 'name': 'D_LEX_PCM', 'l': 0.80575, 'order': 0.0, 'group': '', 'lsc': 1, 'bins': 1024, 'high_frequency_cutoff0': -1, 'high_frequency_cutoff1': -1}\n",
      "{'_id': 149, 'type': 'LSCDRIFT', 'name': 'D_B125_HV125', 'l': 0.06528, 'order': 0.0, 'group': '', 'lsc': 1, 'bins': 1024, 'high_frequency_cutoff0': -1, 'high_frequency_cutoff1': -1}\n",
      "{'_id': 150, 'type': 'LSCDRIFT', 'name': 'D_HV125_Q126', 'l': 0.580742, 'order': 0.0, 'group': '', 'lsc': 1, 'bins': 1024, 'high_frequency_cutoff0': -1, 'high_frequency_cutoff1': -1}\n",
      "{'_id': 151, 'type': 'LSCDRIFT', 'name': 'D_Q126_Q127', 'l': 0.033039, 'order': 0.0, 'group': '', 'lsc': 1, 'bins': 1024, 'high_frequency_cutoff0': -1, 'high_frequency_cutoff1': -1}\n",
      "{'_id': 152, 'type': 'LSCDRIFT', 'name': 'D_Q127_Q128', 'l': 0.033444, 'order': 0.0, 'group': '', 'lsc': 1, 'bins': 1024, 'high_frequency_cutoff0': -1, 'high_frequency_cutoff1': -1}\n",
      "{'_id': 153, 'type': 'LSCDRIFT', 'name': 'D_Q128_X129', 'l': 1.066136, 'order': 0.0, 'group': '', 'lsc': 1, 'bins': 1024, 'high_frequency_cutoff0': -1, 'high_frequency_cutoff1': -1}\n",
      "{'_id': 154, 'type': 'LSCDRIFT', 'name': 'D_X129_B130', 'l': 0.647469, 'order': 0.0, 'group': '', 'lsc': 1, 'bins': 1024, 'high_frequency_cutoff0': -1, 'high_frequency_cutoff1': -1}\n",
      "{'_id': 155, 'type': 'LSCDRIFT', 'name': 'D_B130_GV130', 'l': 0.065143, 'order': 0.0, 'group': '', 'lsc': 1, 'bins': 1024, 'high_frequency_cutoff0': -1, 'high_frequency_cutoff1': -1}\n",
      "{'_id': 533, 'type': 'LSCDRIFT', 'name': 'D_PCM_ICM', 'l': 1.442633, 'order': 0.0, 'group': '', 'lsc': 1, 'bins': 1024, 'high_frequency_cutoff0': -1, 'high_frequency_cutoff1': -1}\n",
      "{'_id': 167, 'type': 'RFCW', 'name': 'CAVE', 'l': 0.11797, 'volt': 12030500.0, 'phase': 90.0, 'freq': 1300000000.0, 'change_p0': '1', 'end1_focus': '1', 'end2_focus': '1', 'body_focus_model': 'srs', 'q': 0.0, 'phase_reference': 0.0, 'change_t': 0.0, 'fiducial': '', 'n_kicks': 100, 'dx': 0.0, 'dy': 0.0, 't_reference': -1.0, 'linearize': '0', 'lock_phase': '0', 'group': '', 'lsc': 1, 'lsc_bins': 1024, 'lsc_high_frequency_cutoff0': -1, 'lsc_high_frequency_cutoff1': -1}\n",
      "{'_id': 168, 'type': 'RFCW', 'name': 'CAV1', 'l': 0.11543, 'volt': 12030500.0, 'phase': 90.0, 'freq': 1300000000.0, 'change_p0': '1', 'end1_focus': '1', 'end2_focus': '1', 'body_focus_model': 'srs', 'q': 0.0, 'phase_reference': 0.0, 'change_t': 0.0, 'fiducial': '', 'n_kicks': 100, 'dx': 0.0, 'dy': 0.0, 't_reference': -1.0, 'linearize': '0', 'lock_phase': '0', 'group': '', 'lsc': 1, 'lsc_bins': 1024, 'lsc_high_frequency_cutoff0': -1, 'lsc_high_frequency_cutoff1': -1}\n",
      "{'_id': 169, 'type': 'RFCW', 'name': 'CAV2', 'l': 0.11543, 'volt': 12030500.0, 'phase': 90.0, 'freq': 1300000000.0, 'change_p0': '1', 'end1_focus': '1', 'end2_focus': '1', 'body_focus_model': 'srs', 'q': 0.0, 'phase_reference': 0.0, 'change_t': 0.0, 'fiducial': '', 'n_kicks': 100, 'dx': 0.0, 'dy': 0.0, 't_reference': -1.0, 'linearize': '0', 'lock_phase': '0', 'group': '', 'lsc': 1, 'lsc_bins': 1024, 'lsc_high_frequency_cutoff0': -1, 'lsc_high_frequency_cutoff1': -1}\n",
      "{'_id': 170, 'type': 'RFCW', 'name': 'CAV3', 'l': 0.11543, 'volt': 12030500.0, 'phase': 90.0, 'freq': 1300000000.0, 'change_p0': '1', 'end1_focus': '1', 'end2_focus': '1', 'body_focus_model': 'srs', 'q': 0.0, 'phase_reference': 0.0, 'change_t': 0.0, 'fiducial': '', 'n_kicks': 100, 'dx': 0.0, 'dy': 0.0, 't_reference': -1.0, 'linearize': '0', 'lock_phase': '0', 'group': '', 'lsc': 1, 'lsc_bins': 1024, 'lsc_high_frequency_cutoff0': -1, 'lsc_high_frequency_cutoff1': -1}\n",
      "{'_id': 171, 'type': 'RFCW', 'name': 'CAV4', 'l': 0.11543, 'volt': 12030500.0, 'phase': 90.0, 'freq': 1300000000.0, 'change_p0': '1', 'end1_focus': '1', 'end2_focus': '1', 'body_focus_model': 'srs', 'q': 0.0, 'phase_reference': 0.0, 'change_t': 0.0, 'fiducial': '', 'n_kicks': 100, 'dx': 0.0, 'dy': 0.0, 't_reference': -1.0, 'linearize': '0', 'lock_phase': '0', 'group': '', 'lsc': 1, 'lsc_bins': 1024, 'lsc_high_frequency_cutoff0': -1, 'lsc_high_frequency_cutoff1': -1}\n",
      "{'_id': 170, 'type': 'RFCW', 'name': 'CAV3', 'l': 0.11543, 'volt': 12030500.0, 'phase': 90.0, 'freq': 1300000000.0, 'change_p0': '1', 'end1_focus': '1', 'end2_focus': '1', 'body_focus_model': 'srs', 'q': 0.0, 'phase_reference': 0.0, 'change_t': 0.0, 'fiducial': '', 'n_kicks': 100, 'dx': 0.0, 'dy': 0.0, 't_reference': -1.0, 'linearize': '0', 'lock_phase': '0', 'group': '', 'lsc': 1, 'lsc_bins': 1024, 'lsc_high_frequency_cutoff0': -1, 'lsc_high_frequency_cutoff1': -1}\n",
      "{'_id': 169, 'type': 'RFCW', 'name': 'CAV2', 'l': 0.11543, 'volt': 12030500.0, 'phase': 90.0, 'freq': 1300000000.0, 'change_p0': '1', 'end1_focus': '1', 'end2_focus': '1', 'body_focus_model': 'srs', 'q': 0.0, 'phase_reference': 0.0, 'change_t': 0.0, 'fiducial': '', 'n_kicks': 100, 'dx': 0.0, 'dy': 0.0, 't_reference': -1.0, 'linearize': '0', 'lock_phase': '0', 'group': '', 'lsc': 1, 'lsc_bins': 1024, 'lsc_high_frequency_cutoff0': -1, 'lsc_high_frequency_cutoff1': -1}\n",
      "{'_id': 168, 'type': 'RFCW', 'name': 'CAV1', 'l': 0.11543, 'volt': 12030500.0, 'phase': 90.0, 'freq': 1300000000.0, 'change_p0': '1', 'end1_focus': '1', 'end2_focus': '1', 'body_focus_model': 'srs', 'q': 0.0, 'phase_reference': 0.0, 'change_t': 0.0, 'fiducial': '', 'n_kicks': 100, 'dx': 0.0, 'dy': 0.0, 't_reference': -1.0, 'linearize': '0', 'lock_phase': '0', 'group': '', 'lsc': 1, 'lsc_bins': 1024, 'lsc_high_frequency_cutoff0': -1, 'lsc_high_frequency_cutoff1': -1}\n",
      "{'_id': 167, 'type': 'RFCW', 'name': 'CAVE', 'l': 0.11797, 'volt': 12030500.0, 'phase': 90.0, 'freq': 1300000000.0, 'change_p0': '1', 'end1_focus': '1', 'end2_focus': '1', 'body_focus_model': 'srs', 'q': 0.0, 'phase_reference': 0.0, 'change_t': 0.0, 'fiducial': '', 'n_kicks': 100, 'dx': 0.0, 'dy': 0.0, 't_reference': -1.0, 'linearize': '0', 'lock_phase': '0', 'group': '', 'lsc': 1, 'lsc_bins': 1024, 'lsc_high_frequency_cutoff0': -1, 'lsc_high_frequency_cutoff1': -1}\n",
      "{'_id': 172, 'type': 'LSCDRIFT', 'name': 'D_CM11_CM12', 'l': 0.341344, 'order': 0.0, 'group': '', 'lsc': 1, 'bins': 1024, 'high_frequency_cutoff0': -1, 'high_frequency_cutoff1': -1}\n",
      "{'_id': 167, 'type': 'RFCW', 'name': 'CAVE', 'l': 0.11797, 'volt': 12030500.0, 'phase': 90.0, 'freq': 1300000000.0, 'change_p0': '1', 'end1_focus': '1', 'end2_focus': '1', 'body_focus_model': 'srs', 'q': 0.0, 'phase_reference': 0.0, 'change_t': 0.0, 'fiducial': '', 'n_kicks': 100, 'dx': 0.0, 'dy': 0.0, 't_reference': -1.0, 'linearize': '0', 'lock_phase': '0', 'group': '', 'lsc': 1, 'lsc_bins': 1024, 'lsc_high_frequency_cutoff0': -1, 'lsc_high_frequency_cutoff1': -1}\n",
      "{'_id': 168, 'type': 'RFCW', 'name': 'CAV1', 'l': 0.11543, 'volt': 12030500.0, 'phase': 90.0, 'freq': 1300000000.0, 'change_p0': '1', 'end1_focus': '1', 'end2_focus': '1', 'body_focus_model': 'srs', 'q': 0.0, 'phase_reference': 0.0, 'change_t': 0.0, 'fiducial': '', 'n_kicks': 100, 'dx': 0.0, 'dy': 0.0, 't_reference': -1.0, 'linearize': '0', 'lock_phase': '0', 'group': '', 'lsc': 1, 'lsc_bins': 1024, 'lsc_high_frequency_cutoff0': -1, 'lsc_high_frequency_cutoff1': -1}\n",
      "{'_id': 169, 'type': 'RFCW', 'name': 'CAV2', 'l': 0.11543, 'volt': 12030500.0, 'phase': 90.0, 'freq': 1300000000.0, 'change_p0': '1', 'end1_focus': '1', 'end2_focus': '1', 'body_focus_model': 'srs', 'q': 0.0, 'phase_reference': 0.0, 'change_t': 0.0, 'fiducial': '', 'n_kicks': 100, 'dx': 0.0, 'dy': 0.0, 't_reference': -1.0, 'linearize': '0', 'lock_phase': '0', 'group': '', 'lsc': 1, 'lsc_bins': 1024, 'lsc_high_frequency_cutoff0': -1, 'lsc_high_frequency_cutoff1': -1}\n",
      "{'_id': 170, 'type': 'RFCW', 'name': 'CAV3', 'l': 0.11543, 'volt': 12030500.0, 'phase': 90.0, 'freq': 1300000000.0, 'change_p0': '1', 'end1_focus': '1', 'end2_focus': '1', 'body_focus_model': 'srs', 'q': 0.0, 'phase_reference': 0.0, 'change_t': 0.0, 'fiducial': '', 'n_kicks': 100, 'dx': 0.0, 'dy': 0.0, 't_reference': -1.0, 'linearize': '0', 'lock_phase': '0', 'group': '', 'lsc': 1, 'lsc_bins': 1024, 'lsc_high_frequency_cutoff0': -1, 'lsc_high_frequency_cutoff1': -1}\n",
      "{'_id': 171, 'type': 'RFCW', 'name': 'CAV4', 'l': 0.11543, 'volt': 12030500.0, 'phase': 90.0, 'freq': 1300000000.0, 'change_p0': '1', 'end1_focus': '1', 'end2_focus': '1', 'body_focus_model': 'srs', 'q': 0.0, 'phase_reference': 0.0, 'change_t': 0.0, 'fiducial': '', 'n_kicks': 100, 'dx': 0.0, 'dy': 0.0, 't_reference': -1.0, 'linearize': '0', 'lock_phase': '0', 'group': '', 'lsc': 1, 'lsc_bins': 1024, 'lsc_high_frequency_cutoff0': -1, 'lsc_high_frequency_cutoff1': -1}\n",
      "{'_id': 170, 'type': 'RFCW', 'name': 'CAV3', 'l': 0.11543, 'volt': 12030500.0, 'phase': 90.0, 'freq': 1300000000.0, 'change_p0': '1', 'end1_focus': '1', 'end2_focus': '1', 'body_focus_model': 'srs', 'q': 0.0, 'phase_reference': 0.0, 'change_t': 0.0, 'fiducial': '', 'n_kicks': 100, 'dx': 0.0, 'dy': 0.0, 't_reference': -1.0, 'linearize': '0', 'lock_phase': '0', 'group': '', 'lsc': 1, 'lsc_bins': 1024, 'lsc_high_frequency_cutoff0': -1, 'lsc_high_frequency_cutoff1': -1}\n",
      "{'_id': 169, 'type': 'RFCW', 'name': 'CAV2', 'l': 0.11543, 'volt': 12030500.0, 'phase': 90.0, 'freq': 1300000000.0, 'change_p0': '1', 'end1_focus': '1', 'end2_focus': '1', 'body_focus_model': 'srs', 'q': 0.0, 'phase_reference': 0.0, 'change_t': 0.0, 'fiducial': '', 'n_kicks': 100, 'dx': 0.0, 'dy': 0.0, 't_reference': -1.0, 'linearize': '0', 'lock_phase': '0', 'group': '', 'lsc': 1, 'lsc_bins': 1024, 'lsc_high_frequency_cutoff0': -1, 'lsc_high_frequency_cutoff1': -1}\n",
      "{'_id': 168, 'type': 'RFCW', 'name': 'CAV1', 'l': 0.11543, 'volt': 12030500.0, 'phase': 90.0, 'freq': 1300000000.0, 'change_p0': '1', 'end1_focus': '1', 'end2_focus': '1', 'body_focus_model': 'srs', 'q': 0.0, 'phase_reference': 0.0, 'change_t': 0.0, 'fiducial': '', 'n_kicks': 100, 'dx': 0.0, 'dy': 0.0, 't_reference': -1.0, 'linearize': '0', 'lock_phase': '0', 'group': '', 'lsc': 1, 'lsc_bins': 1024, 'lsc_high_frequency_cutoff0': -1, 'lsc_high_frequency_cutoff1': -1}\n",
      "{'_id': 167, 'type': 'RFCW', 'name': 'CAVE', 'l': 0.11797, 'volt': 12030500.0, 'phase': 90.0, 'freq': 1300000000.0, 'change_p0': '1', 'end1_focus': '1', 'end2_focus': '1', 'body_focus_model': 'srs', 'q': 0.0, 'phase_reference': 0.0, 'change_t': 0.0, 'fiducial': '', 'n_kicks': 100, 'dx': 0.0, 'dy': 0.0, 't_reference': -1.0, 'linearize': '0', 'lock_phase': '0', 'group': '', 'lsc': 1, 'lsc_bins': 1024, 'lsc_high_frequency_cutoff0': -1, 'lsc_high_frequency_cutoff1': -1}\n",
      "{'_id': 173, 'type': 'LSCDRIFT', 'name': 'D_CM12_CM13', 'l': 0.336836, 'order': 0.0, 'group': '', 'lsc': 1, 'bins': 1024, 'high_frequency_cutoff0': -1, 'high_frequency_cutoff1': -1}\n",
      "{'_id': 167, 'type': 'RFCW', 'name': 'CAVE', 'l': 0.11797, 'volt': 12030500.0, 'phase': 90.0, 'freq': 1300000000.0, 'change_p0': '1', 'end1_focus': '1', 'end2_focus': '1', 'body_focus_model': 'srs', 'q': 0.0, 'phase_reference': 0.0, 'change_t': 0.0, 'fiducial': '', 'n_kicks': 100, 'dx': 0.0, 'dy': 0.0, 't_reference': -1.0, 'linearize': '0', 'lock_phase': '0', 'group': '', 'lsc': 1, 'lsc_bins': 1024, 'lsc_high_frequency_cutoff0': -1, 'lsc_high_frequency_cutoff1': -1}\n",
      "{'_id': 168, 'type': 'RFCW', 'name': 'CAV1', 'l': 0.11543, 'volt': 12030500.0, 'phase': 90.0, 'freq': 1300000000.0, 'change_p0': '1', 'end1_focus': '1', 'end2_focus': '1', 'body_focus_model': 'srs', 'q': 0.0, 'phase_reference': 0.0, 'change_t': 0.0, 'fiducial': '', 'n_kicks': 100, 'dx': 0.0, 'dy': 0.0, 't_reference': -1.0, 'linearize': '0', 'lock_phase': '0', 'group': '', 'lsc': 1, 'lsc_bins': 1024, 'lsc_high_frequency_cutoff0': -1, 'lsc_high_frequency_cutoff1': -1}\n",
      "{'_id': 169, 'type': 'RFCW', 'name': 'CAV2', 'l': 0.11543, 'volt': 12030500.0, 'phase': 90.0, 'freq': 1300000000.0, 'change_p0': '1', 'end1_focus': '1', 'end2_focus': '1', 'body_focus_model': 'srs', 'q': 0.0, 'phase_reference': 0.0, 'change_t': 0.0, 'fiducial': '', 'n_kicks': 100, 'dx': 0.0, 'dy': 0.0, 't_reference': -1.0, 'linearize': '0', 'lock_phase': '0', 'group': '', 'lsc': 1, 'lsc_bins': 1024, 'lsc_high_frequency_cutoff0': -1, 'lsc_high_frequency_cutoff1': -1}\n",
      "{'_id': 170, 'type': 'RFCW', 'name': 'CAV3', 'l': 0.11543, 'volt': 12030500.0, 'phase': 90.0, 'freq': 1300000000.0, 'change_p0': '1', 'end1_focus': '1', 'end2_focus': '1', 'body_focus_model': 'srs', 'q': 0.0, 'phase_reference': 0.0, 'change_t': 0.0, 'fiducial': '', 'n_kicks': 100, 'dx': 0.0, 'dy': 0.0, 't_reference': -1.0, 'linearize': '0', 'lock_phase': '0', 'group': '', 'lsc': 1, 'lsc_bins': 1024, 'lsc_high_frequency_cutoff0': -1, 'lsc_high_frequency_cutoff1': -1}\n",
      "{'_id': 171, 'type': 'RFCW', 'name': 'CAV4', 'l': 0.11543, 'volt': 12030500.0, 'phase': 90.0, 'freq': 1300000000.0, 'change_p0': '1', 'end1_focus': '1', 'end2_focus': '1', 'body_focus_model': 'srs', 'q': 0.0, 'phase_reference': 0.0, 'change_t': 0.0, 'fiducial': '', 'n_kicks': 100, 'dx': 0.0, 'dy': 0.0, 't_reference': -1.0, 'linearize': '0', 'lock_phase': '0', 'group': '', 'lsc': 1, 'lsc_bins': 1024, 'lsc_high_frequency_cutoff0': -1, 'lsc_high_frequency_cutoff1': -1}\n",
      "{'_id': 170, 'type': 'RFCW', 'name': 'CAV3', 'l': 0.11543, 'volt': 12030500.0, 'phase': 90.0, 'freq': 1300000000.0, 'change_p0': '1', 'end1_focus': '1', 'end2_focus': '1', 'body_focus_model': 'srs', 'q': 0.0, 'phase_reference': 0.0, 'change_t': 0.0, 'fiducial': '', 'n_kicks': 100, 'dx': 0.0, 'dy': 0.0, 't_reference': -1.0, 'linearize': '0', 'lock_phase': '0', 'group': '', 'lsc': 1, 'lsc_bins': 1024, 'lsc_high_frequency_cutoff0': -1, 'lsc_high_frequency_cutoff1': -1}\n",
      "{'_id': 169, 'type': 'RFCW', 'name': 'CAV2', 'l': 0.11543, 'volt': 12030500.0, 'phase': 90.0, 'freq': 1300000000.0, 'change_p0': '1', 'end1_focus': '1', 'end2_focus': '1', 'body_focus_model': 'srs', 'q': 0.0, 'phase_reference': 0.0, 'change_t': 0.0, 'fiducial': '', 'n_kicks': 100, 'dx': 0.0, 'dy': 0.0, 't_reference': -1.0, 'linearize': '0', 'lock_phase': '0', 'group': '', 'lsc': 1, 'lsc_bins': 1024, 'lsc_high_frequency_cutoff0': -1, 'lsc_high_frequency_cutoff1': -1}\n",
      "{'_id': 168, 'type': 'RFCW', 'name': 'CAV1', 'l': 0.11543, 'volt': 12030500.0, 'phase': 90.0, 'freq': 1300000000.0, 'change_p0': '1', 'end1_focus': '1', 'end2_focus': '1', 'body_focus_model': 'srs', 'q': 0.0, 'phase_reference': 0.0, 'change_t': 0.0, 'fiducial': '', 'n_kicks': 100, 'dx': 0.0, 'dy': 0.0, 't_reference': -1.0, 'linearize': '0', 'lock_phase': '0', 'group': '', 'lsc': 1, 'lsc_bins': 1024, 'lsc_high_frequency_cutoff0': -1, 'lsc_high_frequency_cutoff1': -1}\n",
      "{'_id': 167, 'type': 'RFCW', 'name': 'CAVE', 'l': 0.11797, 'volt': 12030500.0, 'phase': 90.0, 'freq': 1300000000.0, 'change_p0': '1', 'end1_focus': '1', 'end2_focus': '1', 'body_focus_model': 'srs', 'q': 0.0, 'phase_reference': 0.0, 'change_t': 0.0, 'fiducial': '', 'n_kicks': 100, 'dx': 0.0, 'dy': 0.0, 't_reference': -1.0, 'linearize': '0', 'lock_phase': '0', 'group': '', 'lsc': 1, 'lsc_bins': 1024, 'lsc_high_frequency_cutoff0': -1, 'lsc_high_frequency_cutoff1': -1}\n",
      "{'_id': 174, 'type': 'LSCDRIFT', 'name': 'D_CM13_CM14', 'l': 0.341191, 'order': 0.0, 'group': '', 'lsc': 1, 'bins': 1024, 'high_frequency_cutoff0': -1, 'high_frequency_cutoff1': -1}\n",
      "{'_id': 167, 'type': 'RFCW', 'name': 'CAVE', 'l': 0.11797, 'volt': 12030500.0, 'phase': 90.0, 'freq': 1300000000.0, 'change_p0': '1', 'end1_focus': '1', 'end2_focus': '1', 'body_focus_model': 'srs', 'q': 0.0, 'phase_reference': 0.0, 'change_t': 0.0, 'fiducial': '', 'n_kicks': 100, 'dx': 0.0, 'dy': 0.0, 't_reference': -1.0, 'linearize': '0', 'lock_phase': '0', 'group': '', 'lsc': 1, 'lsc_bins': 1024, 'lsc_high_frequency_cutoff0': -1, 'lsc_high_frequency_cutoff1': -1}\n",
      "{'_id': 168, 'type': 'RFCW', 'name': 'CAV1', 'l': 0.11543, 'volt': 12030500.0, 'phase': 90.0, 'freq': 1300000000.0, 'change_p0': '1', 'end1_focus': '1', 'end2_focus': '1', 'body_focus_model': 'srs', 'q': 0.0, 'phase_reference': 0.0, 'change_t': 0.0, 'fiducial': '', 'n_kicks': 100, 'dx': 0.0, 'dy': 0.0, 't_reference': -1.0, 'linearize': '0', 'lock_phase': '0', 'group': '', 'lsc': 1, 'lsc_bins': 1024, 'lsc_high_frequency_cutoff0': -1, 'lsc_high_frequency_cutoff1': -1}\n",
      "{'_id': 169, 'type': 'RFCW', 'name': 'CAV2', 'l': 0.11543, 'volt': 12030500.0, 'phase': 90.0, 'freq': 1300000000.0, 'change_p0': '1', 'end1_focus': '1', 'end2_focus': '1', 'body_focus_model': 'srs', 'q': 0.0, 'phase_reference': 0.0, 'change_t': 0.0, 'fiducial': '', 'n_kicks': 100, 'dx': 0.0, 'dy': 0.0, 't_reference': -1.0, 'linearize': '0', 'lock_phase': '0', 'group': '', 'lsc': 1, 'lsc_bins': 1024, 'lsc_high_frequency_cutoff0': -1, 'lsc_high_frequency_cutoff1': -1}\n",
      "{'_id': 170, 'type': 'RFCW', 'name': 'CAV3', 'l': 0.11543, 'volt': 12030500.0, 'phase': 90.0, 'freq': 1300000000.0, 'change_p0': '1', 'end1_focus': '1', 'end2_focus': '1', 'body_focus_model': 'srs', 'q': 0.0, 'phase_reference': 0.0, 'change_t': 0.0, 'fiducial': '', 'n_kicks': 100, 'dx': 0.0, 'dy': 0.0, 't_reference': -1.0, 'linearize': '0', 'lock_phase': '0', 'group': '', 'lsc': 1, 'lsc_bins': 1024, 'lsc_high_frequency_cutoff0': -1, 'lsc_high_frequency_cutoff1': -1}\n",
      "{'_id': 171, 'type': 'RFCW', 'name': 'CAV4', 'l': 0.11543, 'volt': 12030500.0, 'phase': 90.0, 'freq': 1300000000.0, 'change_p0': '1', 'end1_focus': '1', 'end2_focus': '1', 'body_focus_model': 'srs', 'q': 0.0, 'phase_reference': 0.0, 'change_t': 0.0, 'fiducial': '', 'n_kicks': 100, 'dx': 0.0, 'dy': 0.0, 't_reference': -1.0, 'linearize': '0', 'lock_phase': '0', 'group': '', 'lsc': 1, 'lsc_bins': 1024, 'lsc_high_frequency_cutoff0': -1, 'lsc_high_frequency_cutoff1': -1}\n",
      "{'_id': 170, 'type': 'RFCW', 'name': 'CAV3', 'l': 0.11543, 'volt': 12030500.0, 'phase': 90.0, 'freq': 1300000000.0, 'change_p0': '1', 'end1_focus': '1', 'end2_focus': '1', 'body_focus_model': 'srs', 'q': 0.0, 'phase_reference': 0.0, 'change_t': 0.0, 'fiducial': '', 'n_kicks': 100, 'dx': 0.0, 'dy': 0.0, 't_reference': -1.0, 'linearize': '0', 'lock_phase': '0', 'group': '', 'lsc': 1, 'lsc_bins': 1024, 'lsc_high_frequency_cutoff0': -1, 'lsc_high_frequency_cutoff1': -1}\n",
      "{'_id': 169, 'type': 'RFCW', 'name': 'CAV2', 'l': 0.11543, 'volt': 12030500.0, 'phase': 90.0, 'freq': 1300000000.0, 'change_p0': '1', 'end1_focus': '1', 'end2_focus': '1', 'body_focus_model': 'srs', 'q': 0.0, 'phase_reference': 0.0, 'change_t': 0.0, 'fiducial': '', 'n_kicks': 100, 'dx': 0.0, 'dy': 0.0, 't_reference': -1.0, 'linearize': '0', 'lock_phase': '0', 'group': '', 'lsc': 1, 'lsc_bins': 1024, 'lsc_high_frequency_cutoff0': -1, 'lsc_high_frequency_cutoff1': -1}\n",
      "{'_id': 168, 'type': 'RFCW', 'name': 'CAV1', 'l': 0.11543, 'volt': 12030500.0, 'phase': 90.0, 'freq': 1300000000.0, 'change_p0': '1', 'end1_focus': '1', 'end2_focus': '1', 'body_focus_model': 'srs', 'q': 0.0, 'phase_reference': 0.0, 'change_t': 0.0, 'fiducial': '', 'n_kicks': 100, 'dx': 0.0, 'dy': 0.0, 't_reference': -1.0, 'linearize': '0', 'lock_phase': '0', 'group': '', 'lsc': 1, 'lsc_bins': 1024, 'lsc_high_frequency_cutoff0': -1, 'lsc_high_frequency_cutoff1': -1}\n",
      "{'_id': 167, 'type': 'RFCW', 'name': 'CAVE', 'l': 0.11797, 'volt': 12030500.0, 'phase': 90.0, 'freq': 1300000000.0, 'change_p0': '1', 'end1_focus': '1', 'end2_focus': '1', 'body_focus_model': 'srs', 'q': 0.0, 'phase_reference': 0.0, 'change_t': 0.0, 'fiducial': '', 'n_kicks': 100, 'dx': 0.0, 'dy': 0.0, 't_reference': -1.0, 'linearize': '0', 'lock_phase': '0', 'group': '', 'lsc': 1, 'lsc_bins': 1024, 'lsc_high_frequency_cutoff0': -1, 'lsc_high_frequency_cutoff1': -1}\n",
      "{'_id': 175, 'type': 'LSCDRIFT', 'name': 'D_CM14_CM15', 'l': 0.340158, 'order': 0.0, 'group': '', 'lsc': 1, 'bins': 1024, 'high_frequency_cutoff0': -1, 'high_frequency_cutoff1': -1}\n",
      "{'_id': 167, 'type': 'RFCW', 'name': 'CAVE', 'l': 0.11797, 'volt': 12030500.0, 'phase': 90.0, 'freq': 1300000000.0, 'change_p0': '1', 'end1_focus': '1', 'end2_focus': '1', 'body_focus_model': 'srs', 'q': 0.0, 'phase_reference': 0.0, 'change_t': 0.0, 'fiducial': '', 'n_kicks': 100, 'dx': 0.0, 'dy': 0.0, 't_reference': -1.0, 'linearize': '0', 'lock_phase': '0', 'group': '', 'lsc': 1, 'lsc_bins': 1024, 'lsc_high_frequency_cutoff0': -1, 'lsc_high_frequency_cutoff1': -1}\n",
      "{'_id': 168, 'type': 'RFCW', 'name': 'CAV1', 'l': 0.11543, 'volt': 12030500.0, 'phase': 90.0, 'freq': 1300000000.0, 'change_p0': '1', 'end1_focus': '1', 'end2_focus': '1', 'body_focus_model': 'srs', 'q': 0.0, 'phase_reference': 0.0, 'change_t': 0.0, 'fiducial': '', 'n_kicks': 100, 'dx': 0.0, 'dy': 0.0, 't_reference': -1.0, 'linearize': '0', 'lock_phase': '0', 'group': '', 'lsc': 1, 'lsc_bins': 1024, 'lsc_high_frequency_cutoff0': -1, 'lsc_high_frequency_cutoff1': -1}\n",
      "{'_id': 169, 'type': 'RFCW', 'name': 'CAV2', 'l': 0.11543, 'volt': 12030500.0, 'phase': 90.0, 'freq': 1300000000.0, 'change_p0': '1', 'end1_focus': '1', 'end2_focus': '1', 'body_focus_model': 'srs', 'q': 0.0, 'phase_reference': 0.0, 'change_t': 0.0, 'fiducial': '', 'n_kicks': 100, 'dx': 0.0, 'dy': 0.0, 't_reference': -1.0, 'linearize': '0', 'lock_phase': '0', 'group': '', 'lsc': 1, 'lsc_bins': 1024, 'lsc_high_frequency_cutoff0': -1, 'lsc_high_frequency_cutoff1': -1}\n",
      "{'_id': 170, 'type': 'RFCW', 'name': 'CAV3', 'l': 0.11543, 'volt': 12030500.0, 'phase': 90.0, 'freq': 1300000000.0, 'change_p0': '1', 'end1_focus': '1', 'end2_focus': '1', 'body_focus_model': 'srs', 'q': 0.0, 'phase_reference': 0.0, 'change_t': 0.0, 'fiducial': '', 'n_kicks': 100, 'dx': 0.0, 'dy': 0.0, 't_reference': -1.0, 'linearize': '0', 'lock_phase': '0', 'group': '', 'lsc': 1, 'lsc_bins': 1024, 'lsc_high_frequency_cutoff0': -1, 'lsc_high_frequency_cutoff1': -1}\n",
      "{'_id': 171, 'type': 'RFCW', 'name': 'CAV4', 'l': 0.11543, 'volt': 12030500.0, 'phase': 90.0, 'freq': 1300000000.0, 'change_p0': '1', 'end1_focus': '1', 'end2_focus': '1', 'body_focus_model': 'srs', 'q': 0.0, 'phase_reference': 0.0, 'change_t': 0.0, 'fiducial': '', 'n_kicks': 100, 'dx': 0.0, 'dy': 0.0, 't_reference': -1.0, 'linearize': '0', 'lock_phase': '0', 'group': '', 'lsc': 1, 'lsc_bins': 1024, 'lsc_high_frequency_cutoff0': -1, 'lsc_high_frequency_cutoff1': -1}\n",
      "{'_id': 170, 'type': 'RFCW', 'name': 'CAV3', 'l': 0.11543, 'volt': 12030500.0, 'phase': 90.0, 'freq': 1300000000.0, 'change_p0': '1', 'end1_focus': '1', 'end2_focus': '1', 'body_focus_model': 'srs', 'q': 0.0, 'phase_reference': 0.0, 'change_t': 0.0, 'fiducial': '', 'n_kicks': 100, 'dx': 0.0, 'dy': 0.0, 't_reference': -1.0, 'linearize': '0', 'lock_phase': '0', 'group': '', 'lsc': 1, 'lsc_bins': 1024, 'lsc_high_frequency_cutoff0': -1, 'lsc_high_frequency_cutoff1': -1}\n",
      "{'_id': 169, 'type': 'RFCW', 'name': 'CAV2', 'l': 0.11543, 'volt': 12030500.0, 'phase': 90.0, 'freq': 1300000000.0, 'change_p0': '1', 'end1_focus': '1', 'end2_focus': '1', 'body_focus_model': 'srs', 'q': 0.0, 'phase_reference': 0.0, 'change_t': 0.0, 'fiducial': '', 'n_kicks': 100, 'dx': 0.0, 'dy': 0.0, 't_reference': -1.0, 'linearize': '0', 'lock_phase': '0', 'group': '', 'lsc': 1, 'lsc_bins': 1024, 'lsc_high_frequency_cutoff0': -1, 'lsc_high_frequency_cutoff1': -1}\n",
      "{'_id': 168, 'type': 'RFCW', 'name': 'CAV1', 'l': 0.11543, 'volt': 12030500.0, 'phase': 90.0, 'freq': 1300000000.0, 'change_p0': '1', 'end1_focus': '1', 'end2_focus': '1', 'body_focus_model': 'srs', 'q': 0.0, 'phase_reference': 0.0, 'change_t': 0.0, 'fiducial': '', 'n_kicks': 100, 'dx': 0.0, 'dy': 0.0, 't_reference': -1.0, 'linearize': '0', 'lock_phase': '0', 'group': '', 'lsc': 1, 'lsc_bins': 1024, 'lsc_high_frequency_cutoff0': -1, 'lsc_high_frequency_cutoff1': -1}\n",
      "{'_id': 167, 'type': 'RFCW', 'name': 'CAVE', 'l': 0.11797, 'volt': 12030500.0, 'phase': 90.0, 'freq': 1300000000.0, 'change_p0': '1', 'end1_focus': '1', 'end2_focus': '1', 'body_focus_model': 'srs', 'q': 0.0, 'phase_reference': 0.0, 'change_t': 0.0, 'fiducial': '', 'n_kicks': 100, 'dx': 0.0, 'dy': 0.0, 't_reference': -1.0, 'linearize': '0', 'lock_phase': '0', 'group': '', 'lsc': 1, 'lsc_bins': 1024, 'lsc_high_frequency_cutoff0': -1, 'lsc_high_frequency_cutoff1': -1}\n",
      "{'_id': 176, 'type': 'LSCDRIFT', 'name': 'D_CM15_CM16', 'l': 0.336927, 'order': 0.0, 'group': '', 'lsc': 1, 'bins': 1024, 'high_frequency_cutoff0': -1, 'high_frequency_cutoff1': -1}\n",
      "{'_id': 167, 'type': 'RFCW', 'name': 'CAVE', 'l': 0.11797, 'volt': 12030500.0, 'phase': 90.0, 'freq': 1300000000.0, 'change_p0': '1', 'end1_focus': '1', 'end2_focus': '1', 'body_focus_model': 'srs', 'q': 0.0, 'phase_reference': 0.0, 'change_t': 0.0, 'fiducial': '', 'n_kicks': 100, 'dx': 0.0, 'dy': 0.0, 't_reference': -1.0, 'linearize': '0', 'lock_phase': '0', 'group': '', 'lsc': 1, 'lsc_bins': 1024, 'lsc_high_frequency_cutoff0': -1, 'lsc_high_frequency_cutoff1': -1}\n",
      "{'_id': 168, 'type': 'RFCW', 'name': 'CAV1', 'l': 0.11543, 'volt': 12030500.0, 'phase': 90.0, 'freq': 1300000000.0, 'change_p0': '1', 'end1_focus': '1', 'end2_focus': '1', 'body_focus_model': 'srs', 'q': 0.0, 'phase_reference': 0.0, 'change_t': 0.0, 'fiducial': '', 'n_kicks': 100, 'dx': 0.0, 'dy': 0.0, 't_reference': -1.0, 'linearize': '0', 'lock_phase': '0', 'group': '', 'lsc': 1, 'lsc_bins': 1024, 'lsc_high_frequency_cutoff0': -1, 'lsc_high_frequency_cutoff1': -1}\n",
      "{'_id': 169, 'type': 'RFCW', 'name': 'CAV2', 'l': 0.11543, 'volt': 12030500.0, 'phase': 90.0, 'freq': 1300000000.0, 'change_p0': '1', 'end1_focus': '1', 'end2_focus': '1', 'body_focus_model': 'srs', 'q': 0.0, 'phase_reference': 0.0, 'change_t': 0.0, 'fiducial': '', 'n_kicks': 100, 'dx': 0.0, 'dy': 0.0, 't_reference': -1.0, 'linearize': '0', 'lock_phase': '0', 'group': '', 'lsc': 1, 'lsc_bins': 1024, 'lsc_high_frequency_cutoff0': -1, 'lsc_high_frequency_cutoff1': -1}\n",
      "{'_id': 170, 'type': 'RFCW', 'name': 'CAV3', 'l': 0.11543, 'volt': 12030500.0, 'phase': 90.0, 'freq': 1300000000.0, 'change_p0': '1', 'end1_focus': '1', 'end2_focus': '1', 'body_focus_model': 'srs', 'q': 0.0, 'phase_reference': 0.0, 'change_t': 0.0, 'fiducial': '', 'n_kicks': 100, 'dx': 0.0, 'dy': 0.0, 't_reference': -1.0, 'linearize': '0', 'lock_phase': '0', 'group': '', 'lsc': 1, 'lsc_bins': 1024, 'lsc_high_frequency_cutoff0': -1, 'lsc_high_frequency_cutoff1': -1}\n",
      "{'_id': 171, 'type': 'RFCW', 'name': 'CAV4', 'l': 0.11543, 'volt': 12030500.0, 'phase': 90.0, 'freq': 1300000000.0, 'change_p0': '1', 'end1_focus': '1', 'end2_focus': '1', 'body_focus_model': 'srs', 'q': 0.0, 'phase_reference': 0.0, 'change_t': 0.0, 'fiducial': '', 'n_kicks': 100, 'dx': 0.0, 'dy': 0.0, 't_reference': -1.0, 'linearize': '0', 'lock_phase': '0', 'group': '', 'lsc': 1, 'lsc_bins': 1024, 'lsc_high_frequency_cutoff0': -1, 'lsc_high_frequency_cutoff1': -1}\n",
      "{'_id': 170, 'type': 'RFCW', 'name': 'CAV3', 'l': 0.11543, 'volt': 12030500.0, 'phase': 90.0, 'freq': 1300000000.0, 'change_p0': '1', 'end1_focus': '1', 'end2_focus': '1', 'body_focus_model': 'srs', 'q': 0.0, 'phase_reference': 0.0, 'change_t': 0.0, 'fiducial': '', 'n_kicks': 100, 'dx': 0.0, 'dy': 0.0, 't_reference': -1.0, 'linearize': '0', 'lock_phase': '0', 'group': '', 'lsc': 1, 'lsc_bins': 1024, 'lsc_high_frequency_cutoff0': -1, 'lsc_high_frequency_cutoff1': -1}\n",
      "{'_id': 169, 'type': 'RFCW', 'name': 'CAV2', 'l': 0.11543, 'volt': 12030500.0, 'phase': 90.0, 'freq': 1300000000.0, 'change_p0': '1', 'end1_focus': '1', 'end2_focus': '1', 'body_focus_model': 'srs', 'q': 0.0, 'phase_reference': 0.0, 'change_t': 0.0, 'fiducial': '', 'n_kicks': 100, 'dx': 0.0, 'dy': 0.0, 't_reference': -1.0, 'linearize': '0', 'lock_phase': '0', 'group': '', 'lsc': 1, 'lsc_bins': 1024, 'lsc_high_frequency_cutoff0': -1, 'lsc_high_frequency_cutoff1': -1}\n",
      "{'_id': 168, 'type': 'RFCW', 'name': 'CAV1', 'l': 0.11543, 'volt': 12030500.0, 'phase': 90.0, 'freq': 1300000000.0, 'change_p0': '1', 'end1_focus': '1', 'end2_focus': '1', 'body_focus_model': 'srs', 'q': 0.0, 'phase_reference': 0.0, 'change_t': 0.0, 'fiducial': '', 'n_kicks': 100, 'dx': 0.0, 'dy': 0.0, 't_reference': -1.0, 'linearize': '0', 'lock_phase': '0', 'group': '', 'lsc': 1, 'lsc_bins': 1024, 'lsc_high_frequency_cutoff0': -1, 'lsc_high_frequency_cutoff1': -1}\n",
      "{'_id': 167, 'type': 'RFCW', 'name': 'CAVE', 'l': 0.11797, 'volt': 12030500.0, 'phase': 90.0, 'freq': 1300000000.0, 'change_p0': '1', 'end1_focus': '1', 'end2_focus': '1', 'body_focus_model': 'srs', 'q': 0.0, 'phase_reference': 0.0, 'change_t': 0.0, 'fiducial': '', 'n_kicks': 100, 'dx': 0.0, 'dy': 0.0, 't_reference': -1.0, 'linearize': '0', 'lock_phase': '0', 'group': '', 'lsc': 1, 'lsc_bins': 1024, 'lsc_high_frequency_cutoff0': -1, 'lsc_high_frequency_cutoff1': -1}\n",
      "{'_id': 177, 'type': 'LSCDRIFT', 'name': 'D_CM16_CM17', 'l': 0.344104, 'order': 0.0, 'group': '', 'lsc': 1, 'bins': 1024, 'high_frequency_cutoff0': -1, 'high_frequency_cutoff1': -1}\n",
      "{'_id': 167, 'type': 'RFCW', 'name': 'CAVE', 'l': 0.11797, 'volt': 12030500.0, 'phase': 90.0, 'freq': 1300000000.0, 'change_p0': '1', 'end1_focus': '1', 'end2_focus': '1', 'body_focus_model': 'srs', 'q': 0.0, 'phase_reference': 0.0, 'change_t': 0.0, 'fiducial': '', 'n_kicks': 100, 'dx': 0.0, 'dy': 0.0, 't_reference': -1.0, 'linearize': '0', 'lock_phase': '0', 'group': '', 'lsc': 1, 'lsc_bins': 1024, 'lsc_high_frequency_cutoff0': -1, 'lsc_high_frequency_cutoff1': -1}\n",
      "{'_id': 168, 'type': 'RFCW', 'name': 'CAV1', 'l': 0.11543, 'volt': 12030500.0, 'phase': 90.0, 'freq': 1300000000.0, 'change_p0': '1', 'end1_focus': '1', 'end2_focus': '1', 'body_focus_model': 'srs', 'q': 0.0, 'phase_reference': 0.0, 'change_t': 0.0, 'fiducial': '', 'n_kicks': 100, 'dx': 0.0, 'dy': 0.0, 't_reference': -1.0, 'linearize': '0', 'lock_phase': '0', 'group': '', 'lsc': 1, 'lsc_bins': 1024, 'lsc_high_frequency_cutoff0': -1, 'lsc_high_frequency_cutoff1': -1}\n",
      "{'_id': 169, 'type': 'RFCW', 'name': 'CAV2', 'l': 0.11543, 'volt': 12030500.0, 'phase': 90.0, 'freq': 1300000000.0, 'change_p0': '1', 'end1_focus': '1', 'end2_focus': '1', 'body_focus_model': 'srs', 'q': 0.0, 'phase_reference': 0.0, 'change_t': 0.0, 'fiducial': '', 'n_kicks': 100, 'dx': 0.0, 'dy': 0.0, 't_reference': -1.0, 'linearize': '0', 'lock_phase': '0', 'group': '', 'lsc': 1, 'lsc_bins': 1024, 'lsc_high_frequency_cutoff0': -1, 'lsc_high_frequency_cutoff1': -1}\n",
      "{'_id': 170, 'type': 'RFCW', 'name': 'CAV3', 'l': 0.11543, 'volt': 12030500.0, 'phase': 90.0, 'freq': 1300000000.0, 'change_p0': '1', 'end1_focus': '1', 'end2_focus': '1', 'body_focus_model': 'srs', 'q': 0.0, 'phase_reference': 0.0, 'change_t': 0.0, 'fiducial': '', 'n_kicks': 100, 'dx': 0.0, 'dy': 0.0, 't_reference': -1.0, 'linearize': '0', 'lock_phase': '0', 'group': '', 'lsc': 1, 'lsc_bins': 1024, 'lsc_high_frequency_cutoff0': -1, 'lsc_high_frequency_cutoff1': -1}\n",
      "{'_id': 171, 'type': 'RFCW', 'name': 'CAV4', 'l': 0.11543, 'volt': 12030500.0, 'phase': 90.0, 'freq': 1300000000.0, 'change_p0': '1', 'end1_focus': '1', 'end2_focus': '1', 'body_focus_model': 'srs', 'q': 0.0, 'phase_reference': 0.0, 'change_t': 0.0, 'fiducial': '', 'n_kicks': 100, 'dx': 0.0, 'dy': 0.0, 't_reference': -1.0, 'linearize': '0', 'lock_phase': '0', 'group': '', 'lsc': 1, 'lsc_bins': 1024, 'lsc_high_frequency_cutoff0': -1, 'lsc_high_frequency_cutoff1': -1}\n",
      "{'_id': 170, 'type': 'RFCW', 'name': 'CAV3', 'l': 0.11543, 'volt': 12030500.0, 'phase': 90.0, 'freq': 1300000000.0, 'change_p0': '1', 'end1_focus': '1', 'end2_focus': '1', 'body_focus_model': 'srs', 'q': 0.0, 'phase_reference': 0.0, 'change_t': 0.0, 'fiducial': '', 'n_kicks': 100, 'dx': 0.0, 'dy': 0.0, 't_reference': -1.0, 'linearize': '0', 'lock_phase': '0', 'group': '', 'lsc': 1, 'lsc_bins': 1024, 'lsc_high_frequency_cutoff0': -1, 'lsc_high_frequency_cutoff1': -1}\n",
      "{'_id': 169, 'type': 'RFCW', 'name': 'CAV2', 'l': 0.11543, 'volt': 12030500.0, 'phase': 90.0, 'freq': 1300000000.0, 'change_p0': '1', 'end1_focus': '1', 'end2_focus': '1', 'body_focus_model': 'srs', 'q': 0.0, 'phase_reference': 0.0, 'change_t': 0.0, 'fiducial': '', 'n_kicks': 100, 'dx': 0.0, 'dy': 0.0, 't_reference': -1.0, 'linearize': '0', 'lock_phase': '0', 'group': '', 'lsc': 1, 'lsc_bins': 1024, 'lsc_high_frequency_cutoff0': -1, 'lsc_high_frequency_cutoff1': -1}\n",
      "{'_id': 168, 'type': 'RFCW', 'name': 'CAV1', 'l': 0.11543, 'volt': 12030500.0, 'phase': 90.0, 'freq': 1300000000.0, 'change_p0': '1', 'end1_focus': '1', 'end2_focus': '1', 'body_focus_model': 'srs', 'q': 0.0, 'phase_reference': 0.0, 'change_t': 0.0, 'fiducial': '', 'n_kicks': 100, 'dx': 0.0, 'dy': 0.0, 't_reference': -1.0, 'linearize': '0', 'lock_phase': '0', 'group': '', 'lsc': 1, 'lsc_bins': 1024, 'lsc_high_frequency_cutoff0': -1, 'lsc_high_frequency_cutoff1': -1}\n",
      "{'_id': 167, 'type': 'RFCW', 'name': 'CAVE', 'l': 0.11797, 'volt': 12030500.0, 'phase': 90.0, 'freq': 1300000000.0, 'change_p0': '1', 'end1_focus': '1', 'end2_focus': '1', 'body_focus_model': 'srs', 'q': 0.0, 'phase_reference': 0.0, 'change_t': 0.0, 'fiducial': '', 'n_kicks': 100, 'dx': 0.0, 'dy': 0.0, 't_reference': -1.0, 'linearize': '0', 'lock_phase': '0', 'group': '', 'lsc': 1, 'lsc_bins': 1024, 'lsc_high_frequency_cutoff0': -1, 'lsc_high_frequency_cutoff1': -1}\n",
      "{'_id': 178, 'type': 'LSCDRIFT', 'name': 'D_CM17_CM18', 'l': 0.339273, 'order': 0.0, 'group': '', 'lsc': 1, 'bins': 1024, 'high_frequency_cutoff0': -1, 'high_frequency_cutoff1': -1}\n",
      "{'_id': 167, 'type': 'RFCW', 'name': 'CAVE', 'l': 0.11797, 'volt': 12030500.0, 'phase': 90.0, 'freq': 1300000000.0, 'change_p0': '1', 'end1_focus': '1', 'end2_focus': '1', 'body_focus_model': 'srs', 'q': 0.0, 'phase_reference': 0.0, 'change_t': 0.0, 'fiducial': '', 'n_kicks': 100, 'dx': 0.0, 'dy': 0.0, 't_reference': -1.0, 'linearize': '0', 'lock_phase': '0', 'group': '', 'lsc': 1, 'lsc_bins': 1024, 'lsc_high_frequency_cutoff0': -1, 'lsc_high_frequency_cutoff1': -1}\n",
      "{'_id': 168, 'type': 'RFCW', 'name': 'CAV1', 'l': 0.11543, 'volt': 12030500.0, 'phase': 90.0, 'freq': 1300000000.0, 'change_p0': '1', 'end1_focus': '1', 'end2_focus': '1', 'body_focus_model': 'srs', 'q': 0.0, 'phase_reference': 0.0, 'change_t': 0.0, 'fiducial': '', 'n_kicks': 100, 'dx': 0.0, 'dy': 0.0, 't_reference': -1.0, 'linearize': '0', 'lock_phase': '0', 'group': '', 'lsc': 1, 'lsc_bins': 1024, 'lsc_high_frequency_cutoff0': -1, 'lsc_high_frequency_cutoff1': -1}\n",
      "{'_id': 169, 'type': 'RFCW', 'name': 'CAV2', 'l': 0.11543, 'volt': 12030500.0, 'phase': 90.0, 'freq': 1300000000.0, 'change_p0': '1', 'end1_focus': '1', 'end2_focus': '1', 'body_focus_model': 'srs', 'q': 0.0, 'phase_reference': 0.0, 'change_t': 0.0, 'fiducial': '', 'n_kicks': 100, 'dx': 0.0, 'dy': 0.0, 't_reference': -1.0, 'linearize': '0', 'lock_phase': '0', 'group': '', 'lsc': 1, 'lsc_bins': 1024, 'lsc_high_frequency_cutoff0': -1, 'lsc_high_frequency_cutoff1': -1}\n",
      "{'_id': 170, 'type': 'RFCW', 'name': 'CAV3', 'l': 0.11543, 'volt': 12030500.0, 'phase': 90.0, 'freq': 1300000000.0, 'change_p0': '1', 'end1_focus': '1', 'end2_focus': '1', 'body_focus_model': 'srs', 'q': 0.0, 'phase_reference': 0.0, 'change_t': 0.0, 'fiducial': '', 'n_kicks': 100, 'dx': 0.0, 'dy': 0.0, 't_reference': -1.0, 'linearize': '0', 'lock_phase': '0', 'group': '', 'lsc': 1, 'lsc_bins': 1024, 'lsc_high_frequency_cutoff0': -1, 'lsc_high_frequency_cutoff1': -1}\n",
      "{'_id': 171, 'type': 'RFCW', 'name': 'CAV4', 'l': 0.11543, 'volt': 12030500.0, 'phase': 90.0, 'freq': 1300000000.0, 'change_p0': '1', 'end1_focus': '1', 'end2_focus': '1', 'body_focus_model': 'srs', 'q': 0.0, 'phase_reference': 0.0, 'change_t': 0.0, 'fiducial': '', 'n_kicks': 100, 'dx': 0.0, 'dy': 0.0, 't_reference': -1.0, 'linearize': '0', 'lock_phase': '0', 'group': '', 'lsc': 1, 'lsc_bins': 1024, 'lsc_high_frequency_cutoff0': -1, 'lsc_high_frequency_cutoff1': -1}\n",
      "{'_id': 170, 'type': 'RFCW', 'name': 'CAV3', 'l': 0.11543, 'volt': 12030500.0, 'phase': 90.0, 'freq': 1300000000.0, 'change_p0': '1', 'end1_focus': '1', 'end2_focus': '1', 'body_focus_model': 'srs', 'q': 0.0, 'phase_reference': 0.0, 'change_t': 0.0, 'fiducial': '', 'n_kicks': 100, 'dx': 0.0, 'dy': 0.0, 't_reference': -1.0, 'linearize': '0', 'lock_phase': '0', 'group': '', 'lsc': 1, 'lsc_bins': 1024, 'lsc_high_frequency_cutoff0': -1, 'lsc_high_frequency_cutoff1': -1}\n",
      "{'_id': 169, 'type': 'RFCW', 'name': 'CAV2', 'l': 0.11543, 'volt': 12030500.0, 'phase': 90.0, 'freq': 1300000000.0, 'change_p0': '1', 'end1_focus': '1', 'end2_focus': '1', 'body_focus_model': 'srs', 'q': 0.0, 'phase_reference': 0.0, 'change_t': 0.0, 'fiducial': '', 'n_kicks': 100, 'dx': 0.0, 'dy': 0.0, 't_reference': -1.0, 'linearize': '0', 'lock_phase': '0', 'group': '', 'lsc': 1, 'lsc_bins': 1024, 'lsc_high_frequency_cutoff0': -1, 'lsc_high_frequency_cutoff1': -1}\n",
      "{'_id': 168, 'type': 'RFCW', 'name': 'CAV1', 'l': 0.11543, 'volt': 12030500.0, 'phase': 90.0, 'freq': 1300000000.0, 'change_p0': '1', 'end1_focus': '1', 'end2_focus': '1', 'body_focus_model': 'srs', 'q': 0.0, 'phase_reference': 0.0, 'change_t': 0.0, 'fiducial': '', 'n_kicks': 100, 'dx': 0.0, 'dy': 0.0, 't_reference': -1.0, 'linearize': '0', 'lock_phase': '0', 'group': '', 'lsc': 1, 'lsc_bins': 1024, 'lsc_high_frequency_cutoff0': -1, 'lsc_high_frequency_cutoff1': -1}\n",
      "{'_id': 167, 'type': 'RFCW', 'name': 'CAVE', 'l': 0.11797, 'volt': 12030500.0, 'phase': 90.0, 'freq': 1300000000.0, 'change_p0': '1', 'end1_focus': '1', 'end2_focus': '1', 'body_focus_model': 'srs', 'q': 0.0, 'phase_reference': 0.0, 'change_t': 0.0, 'fiducial': '', 'n_kicks': 100, 'dx': 0.0, 'dy': 0.0, 't_reference': -1.0, 'linearize': '0', 'lock_phase': '0', 'group': '', 'lsc': 1, 'lsc_bins': 1024, 'lsc_high_frequency_cutoff0': -1, 'lsc_high_frequency_cutoff1': -1}\n",
      "{'_id': 179, 'type': 'LSCDRIFT', 'name': 'D_CM18_Q418', 'l': 0.283568, 'order': 0.0, 'group': '', 'lsc': 1, 'bins': 1024, 'high_frequency_cutoff0': -1, 'high_frequency_cutoff1': -1}\n",
      "{'_id': 180, 'type': 'LSCDRIFT', 'name': 'D_Q418_B418', 'l': 0.15587, 'order': 0.0, 'group': '', 'lsc': 1, 'bins': 1024, 'high_frequency_cutoff0': -1, 'high_frequency_cutoff1': -1}\n",
      "{'_id': 534, 'type': 'LSCDRIFT', 'name': 'D_ICM_ACM', 'l': 1.476957, 'order': 0.0, 'group': '', 'lsc': 1, 'bins': 1024, 'high_frequency_cutoff0': -1, 'high_frequency_cutoff1': -1}\n",
      "{'_id': 193, 'type': 'LSCDRIFT', 'name': 'D_GV418_GV419', 'l': 1.156175, 'order': 0.0, 'group': '', 'lsc': 1, 'bins': 1024, 'high_frequency_cutoff0': -1, 'high_frequency_cutoff1': -1}\n",
      "{'_id': 194, 'type': 'LSCDRIFT', 'name': 'D_GV419_X440', 'l': 0.085, 'order': 0.0, 'group': '', 'lsc': 1, 'bins': 1024, 'high_frequency_cutoff0': -1, 'high_frequency_cutoff1': -1}\n",
      "{'_id': 195, 'type': 'LSCDRIFT', 'name': 'D_X440_B440', 'l': 0.14835, 'order': 0.0, 'group': '', 'lsc': 1, 'bins': 1024, 'high_frequency_cutoff0': -1, 'high_frequency_cutoff1': -1}\n",
      "{'_id': 196, 'type': 'LSCDRIFT', 'name': 'D_B440_GV440', 'l': 0.2325, 'order': 0.0, 'group': '', 'lsc': 1, 'bins': 1024, 'high_frequency_cutoff0': -1, 'high_frequency_cutoff1': -1}\n",
      "{'_id': 197, 'type': 'LSCDRIFT', 'name': 'D_GV440_T440', 'l': 0.19845, 'order': 0.0, 'group': '', 'lsc': 1, 'bins': 1024, 'high_frequency_cutoff0': -1, 'high_frequency_cutoff1': -1}\n",
      "{'_id': 198, 'type': 'LSCDRIFT', 'name': 'D_T440_X441', 'l': 0.18437, 'order': 0.0, 'group': '', 'lsc': 1, 'bins': 1024, 'high_frequency_cutoff0': -1, 'high_frequency_cutoff1': -1}\n",
      "{'_id': 199, 'type': 'LSCDRIFT', 'name': 'D_X441_B441', 'l': 0.1186, 'order': 0.0, 'group': '', 'lsc': 1, 'bins': 1024, 'high_frequency_cutoff0': -1, 'high_frequency_cutoff1': -1}\n",
      "{'_id': 200, 'type': 'LSCDRIFT', 'name': 'D_B441_H441', 'l': 0.35889, 'order': 0.0, 'group': '', 'lsc': 1, 'bins': 1024, 'high_frequency_cutoff0': -1, 'high_frequency_cutoff1': -1}\n",
      "{'_id': 201, 'type': 'LSCDRIFT', 'name': 'D_H441_V441', 'l': 0.25, 'order': 0.0, 'group': '', 'lsc': 1, 'bins': 1024, 'high_frequency_cutoff0': -1, 'high_frequency_cutoff1': -1}\n",
      "{'_id': 202, 'type': 'LSCDRIFT', 'name': 'D_V441_Q441', 'l': 0.23261, 'order': 0.0, 'group': '', 'lsc': 1, 'bins': 1024, 'high_frequency_cutoff0': -1, 'high_frequency_cutoff1': -1}\n",
      "{'_id': 203, 'type': 'LSCDRIFT', 'name': 'D_Q441_Q442', 'l': 0.918, 'order': 0.0, 'group': '', 'lsc': 1, 'bins': 1024, 'high_frequency_cutoff0': -1, 'high_frequency_cutoff1': -1}\n",
      "{'_id': 204, 'type': 'LSCDRIFT', 'name': 'D_Q442_Q443', 'l': 0.918, 'order': 0.0, 'group': '', 'lsc': 1, 'bins': 1024, 'high_frequency_cutoff0': -1, 'high_frequency_cutoff1': -1}\n",
      "{'_id': 205, 'type': 'LSCDRIFT', 'name': 'D_Q443_Q444', 'l': 0.918, 'order': 0.0, 'group': '', 'lsc': 1, 'bins': 1024, 'high_frequency_cutoff0': -1, 'high_frequency_cutoff1': -1}\n",
      "{'_id': 206, 'type': 'LSCDRIFT', 'name': 'D_Q444_B444', 'l': 0.1555, 'order': 0.0, 'group': '', 'lsc': 1, 'bins': 1024, 'high_frequency_cutoff0': -1, 'high_frequency_cutoff1': -1}\n",
      "{'_id': 207, 'type': 'LSCDRIFT', 'name': 'D_B444_X444', 'l': 0.0795, 'order': 0.0, 'group': '', 'lsc': 1, 'bins': 1024, 'high_frequency_cutoff0': -1, 'high_frequency_cutoff1': -1}\n",
      "{'_id': 208, 'type': 'LSCDRIFT', 'name': 'D_X444_H444', 'l': 0.35351, 'order': 0.0, 'group': '', 'lsc': 1, 'bins': 1024, 'high_frequency_cutoff0': -1, 'high_frequency_cutoff1': -1}\n",
      "{'_id': 209, 'type': 'LSCDRIFT', 'name': 'D_H444_V444', 'l': 0.25, 'order': 0.0, 'group': '', 'lsc': 1, 'bins': 1024, 'high_frequency_cutoff0': -1, 'high_frequency_cutoff1': -1}\n",
      "{'_id': 210, 'type': 'LSCDRIFT', 'name': 'D_V444_Q450', 'l': 2.00854, 'order': 0.0, 'group': '', 'lsc': 1, 'bins': 1024, 'high_frequency_cutoff0': -1, 'high_frequency_cutoff1': -1}\n",
      "{'_id': 211, 'type': 'LSCDRIFT', 'name': 'D_Q450_B450', 'l': 0.1555, 'order': 0.0, 'group': '', 'lsc': 1, 'bins': 1024, 'high_frequency_cutoff0': -1, 'high_frequency_cutoff1': -1}\n",
      "{'_id': 212, 'type': 'LSCDRIFT', 'name': 'D_B450_X450', 'l': 0.0795, 'order': 0.0, 'group': '', 'lsc': 1, 'bins': 1024, 'high_frequency_cutoff0': -1, 'high_frequency_cutoff1': -1}\n",
      "{'_id': 213, 'type': 'LSCDRIFT', 'name': 'D_X450_H450', 'l': 0.35351, 'order': 0.0, 'group': '', 'lsc': 1, 'bins': 1024, 'high_frequency_cutoff0': -1, 'high_frequency_cutoff1': -1}\n",
      "{'_id': 214, 'type': 'LSCDRIFT', 'name': 'D_H450_V450', 'l': 0.25, 'order': 0.0, 'group': '', 'lsc': 1, 'bins': 1024, 'high_frequency_cutoff0': -1, 'high_frequency_cutoff1': -1}\n",
      "{'_id': 215, 'type': 'LSCDRIFT', 'name': 'D_V450_B455', 'l': 7.97402, 'order': 0.0, 'group': '', 'lsc': 1, 'bins': 1024, 'high_frequency_cutoff0': -1, 'high_frequency_cutoff1': -1}\n",
      "{'_id': 216, 'type': 'LSCDRIFT', 'name': 'D_B455_X455', 'l': 0.1186, 'order': 0.0, 'group': '', 'lsc': 1, 'bins': 1024, 'high_frequency_cutoff0': -1, 'high_frequency_cutoff1': -1}\n",
      "{'_id': 217, 'type': 'LSCDRIFT', 'name': 'D_X455_Q460', 'l': 7.89087, 'order': 0.0, 'group': '', 'lsc': 1, 'bins': 1024, 'high_frequency_cutoff0': -1, 'high_frequency_cutoff1': -1}\n",
      "{'_id': 218, 'type': 'LSCDRIFT', 'name': 'D_Q460_B460', 'l': 0.19276, 'order': 0.0, 'group': '', 'lsc': 1, 'bins': 1024, 'high_frequency_cutoff0': -1, 'high_frequency_cutoff1': -1}\n",
      "{'_id': 219, 'type': 'LSCDRIFT', 'name': 'D_B460_X460', 'l': 0.0795, 'order': 0.0, 'group': '', 'lsc': 1, 'bins': 1024, 'high_frequency_cutoff0': -1, 'high_frequency_cutoff1': -1}\n",
      "{'_id': 220, 'type': 'LSCDRIFT', 'name': 'D_X460_H460', 'l': 0.33026, 'order': 0.0, 'group': '', 'lsc': 1, 'bins': 1024, 'high_frequency_cutoff0': -1, 'high_frequency_cutoff1': -1}\n",
      "{'_id': 221, 'type': 'LSCDRIFT', 'name': 'D_H460_V460', 'l': 0.25, 'order': 0.0, 'group': '', 'lsc': 1, 'bins': 1024, 'high_frequency_cutoff0': -1, 'high_frequency_cutoff1': -1}\n",
      "{'_id': 222, 'type': 'LSCDRIFT', 'name': 'D_V460_X465', 'l': 8.01782, 'order': 0.0, 'group': '', 'lsc': 1, 'bins': 1024, 'high_frequency_cutoff0': -1, 'high_frequency_cutoff1': -1}\n",
      "{'_id': 223, 'type': 'LSCDRIFT', 'name': 'D_X465_Q470', 'l': 7.95166, 'order': 0.0, 'group': '', 'lsc': 1, 'bins': 1024, 'high_frequency_cutoff0': -1, 'high_frequency_cutoff1': -1}\n",
      "{'_id': 224, 'type': 'LSCDRIFT', 'name': 'D_Q470_B470', 'l': 0.14922, 'order': 0.0, 'group': '', 'lsc': 1, 'bins': 1024, 'high_frequency_cutoff0': -1, 'high_frequency_cutoff1': -1}\n",
      "{'_id': 225, 'type': 'LSCDRIFT', 'name': 'D_B470_X470', 'l': 0.0795, 'order': 0.0, 'group': '', 'lsc': 1, 'bins': 1024, 'high_frequency_cutoff0': -1, 'high_frequency_cutoff1': -1}\n",
      "{'_id': 226, 'type': 'LSCDRIFT', 'name': 'D_X470_H470', 'l': 0.38779, 'order': 0.0, 'group': '', 'lsc': 1, 'bins': 1024, 'high_frequency_cutoff0': -1, 'high_frequency_cutoff1': -1}\n",
      "{'_id': 227, 'type': 'LSCDRIFT', 'name': 'D_H470_V470', 'l': 0.25, 'order': 0.0, 'group': '', 'lsc': 1, 'bins': 1024, 'high_frequency_cutoff0': -1, 'high_frequency_cutoff1': -1}\n",
      "{'_id': 228, 'type': 'LSCDRIFT', 'name': 'D_V470_X475', 'l': 7.96029, 'order': 0.0, 'group': '', 'lsc': 1, 'bins': 1024, 'high_frequency_cutoff0': -1, 'high_frequency_cutoff1': -1}\n",
      "{'_id': 229, 'type': 'LSCDRIFT', 'name': 'D_X475_Q480', 'l': 7.9952, 'order': 0.0, 'group': '', 'lsc': 1, 'bins': 1024, 'high_frequency_cutoff0': -1, 'high_frequency_cutoff1': -1}\n",
      "{'_id': 230, 'type': 'LSCDRIFT', 'name': 'D_Q480_B480', 'l': 0.10568, 'order': 0.0, 'group': '', 'lsc': 1, 'bins': 1024, 'high_frequency_cutoff0': -1, 'high_frequency_cutoff1': -1}\n",
      "{'_id': 231, 'type': 'LSCDRIFT', 'name': 'D_B480_X480', 'l': 0.0795, 'order': 0.0, 'group': '', 'lsc': 1, 'bins': 1024, 'high_frequency_cutoff0': -1, 'high_frequency_cutoff1': -1}\n",
      "{'_id': 232, 'type': 'LSCDRIFT', 'name': 'D_X480_H480', 'l': 0.44533, 'order': 0.0, 'group': '', 'lsc': 1, 'bins': 1024, 'high_frequency_cutoff0': -1, 'high_frequency_cutoff1': -1}\n",
      "{'_id': 233, 'type': 'LSCDRIFT', 'name': 'D_H480_V480', 'l': 0.25, 'order': 0.0, 'group': '', 'lsc': 1, 'bins': 1024, 'high_frequency_cutoff0': -1, 'high_frequency_cutoff1': -1}\n",
      "{'_id': 536, 'type': 'LSCDRIFT', 'name': 'D_ACM_EID', 'l': 1.916566, 'order': 0.0, 'group': '', 'lsc': 1, 'bins': 1024, 'high_frequency_cutoff0': -1, 'high_frequency_cutoff1': -1}\n",
      "{'_id': 413, 'type': 'LSCDRIFT', 'name': 'D_B502_EID_X502_EID', 'l': 0.0795, 'order': 0.0, 'group': '', 'lsc': 1, 'bins': 1024, 'high_frequency_cutoff0': -1, 'high_frequency_cutoff1': -1}\n",
      "{'_id': 414, 'type': 'LSCDRIFT', 'name': 'D_X502_EID_H502_EID', 'l': 0.45409, 'order': 0.0, 'group': '', 'lsc': 1, 'bins': 1024, 'high_frequency_cutoff0': -1, 'high_frequency_cutoff1': -1}\n",
      "{'_id': 415, 'type': 'LSCDRIFT', 'name': 'D_H502_EID_V502_EID', 'l': 0.25, 'order': 0.0, 'group': '', 'lsc': 1, 'bins': 1024, 'high_frequency_cutoff0': -1, 'high_frequency_cutoff1': -1}\n",
      "{'_id': 416, 'type': 'LSCDRIFT', 'name': 'D_V502_EID_Q502_EID', 'l': 0.23261, 'order': 0.0, 'group': '', 'lsc': 1, 'bins': 1024, 'high_frequency_cutoff0': -1, 'high_frequency_cutoff1': -1}\n",
      "{'_id': 417, 'type': 'LSCDRIFT', 'name': 'D_Q502_EID_Q503_EID', 'l': 1.00583, 'order': 0.0, 'group': '', 'lsc': 1, 'bins': 1024, 'high_frequency_cutoff0': -1, 'high_frequency_cutoff1': -1}\n",
      "{'_id': 418, 'type': 'LSCDRIFT', 'name': 'D_Q503_EID_Q504_EID', 'l': 2.584779, 'order': 0.0, 'group': '', 'lsc': 1, 'bins': 1024, 'high_frequency_cutoff0': -1, 'high_frequency_cutoff1': -1}\n",
      "{'_id': 419, 'type': 'CSRDRIFT', 'name': 'D_Q504_EID_Q505_EID', 'l': 1.795312, 'order': 0.0, 'group': '', 'dz': 0.01, 'use_stupakov': 1, 'lsc_bins': 1024, 'high_frequency_cutoff0': -1, 'high_frequency_cutoff1': -1}\n",
      "{'_id': 420, 'type': 'CSRDRIFT', 'name': 'D_Q505_EID_H505_EID', 'l': 0.23272, 'order': 0.0, 'group': '', 'dz': 0.01, 'use_stupakov': 1, 'lsc_bins': 1024, 'high_frequency_cutoff0': -1, 'high_frequency_cutoff1': -1}\n",
      "{'_id': 421, 'type': 'CSRDRIFT', 'name': 'D_H505_EID_V505_EID', 'l': 0.25, 'order': 0.0, 'group': '', 'dz': 0.01, 'use_stupakov': 1, 'lsc_bins': 1024, 'high_frequency_cutoff0': -1, 'high_frequency_cutoff1': -1}\n",
      "{'_id': 422, 'type': 'CSRDRIFT', 'name': 'D_V505_EID_B505_EID', 'l': 0.31115, 'order': 0.0, 'group': '', 'dz': 0.01, 'use_stupakov': 1, 'lsc_bins': 1024, 'high_frequency_cutoff0': -1, 'high_frequency_cutoff1': -1}\n",
      "{'_id': 423, 'type': 'CSRDRIFT', 'name': 'D_B505_EID_X505_EID', 'l': 0.1186, 'order': 0.0, 'group': '', 'dz': 0.01, 'use_stupakov': 1, 'lsc_bins': 1024, 'high_frequency_cutoff0': -1, 'high_frequency_cutoff1': -1}\n",
      "{'_id': 424, 'type': 'CSRDRIFT', 'name': 'D_X505_EID_B506_EID', 'l': 1.0914, 'order': 0.0, 'group': '', 'dz': 0.01, 'use_stupakov': 1, 'lsc_bins': 1024, 'high_frequency_cutoff0': -1, 'high_frequency_cutoff1': -1}\n",
      "{'_id': 425, 'type': 'CSRDRIFT', 'name': 'D_B506_EID_X506_EID', 'l': 0.0795, 'order': 0.0, 'group': '', 'dz': 0.01, 'use_stupakov': 1, 'lsc_bins': 1024, 'high_frequency_cutoff0': -1, 'high_frequency_cutoff1': -1}\n",
      "{'_id': 426, 'type': 'CSRDRIFT', 'name': 'D_X506_EID_D600', 'l': 0.326776, 'order': 0.0, 'group': '', 'dz': 0.01, 'use_stupakov': 1, 'lsc_bins': 1024, 'high_frequency_cutoff0': -1, 'high_frequency_cutoff1': -1}\n",
      "{'_id': 455, 'type': 'CSRCSBEND', 'name': 'D600', 'l': 1.280464, 'angle': 0.261799, 'e1': 0.1309, 'e2': 0.1309, 'hgap': 0.0325, 'fint': 0.67, 'k1': 0.0, 'tilt': 0.0, 'k2': 0.0, 'h1': 0.0, 'h2': 0.0, 'dx': 0.0, 'dy': 0.0, 'dz': 0.0, 'fse': 0.0, 'fse_dipole': 0.0, 'fse_quadrupole': 0.0, 'etilt': 0.0, 'etilt_sign': '1', 'edge1_effects': '1', 'edge2_effects': '1', 'order': 0.0, 'edge_order': 0.0, 'transport': '0', 'use_bn': '0', 'b1': 0.0, 'b2': 0.0, 'group': '', 'n_slices': 25, 'bins': 1024, 'sg_halfwidth': 1}\n",
      "{'_id': 427, 'type': 'LSCDRIFT', 'name': 'D_D600_GV600', 'l': 0.228545, 'order': 0.0, 'group': '', 'lsc': 1, 'bins': 1024, 'high_frequency_cutoff0': -1, 'high_frequency_cutoff1': -1}\n",
      "{'_id': 428, 'type': 'LSCDRIFT', 'name': 'D_GV600_B600', 'l': 0.100846, 'order': 0.0, 'group': '', 'lsc': 1, 'bins': 1024, 'high_frequency_cutoff0': -1, 'high_frequency_cutoff1': -1}\n",
      "{'_id': 429, 'type': 'LSCDRIFT', 'name': 'D_B600_X601', 'l': 0.491632, 'order': 0.0, 'group': '', 'lsc': 1, 'bins': 1024, 'high_frequency_cutoff0': -1, 'high_frequency_cutoff1': -1}\n",
      "{'_id': 430, 'type': 'CSRDRIFT', 'name': 'D_X601_B601', 'l': 0.118601, 'order': 0.0, 'group': '', 'dz': 0.01, 'use_stupakov': 1, 'lsc_bins': 1024, 'high_frequency_cutoff0': -1, 'high_frequency_cutoff1': -1}\n",
      "{'_id': 431, 'type': 'CSRDRIFT', 'name': 'D_B601_Q601', 'l': 0.128006, 'order': 0.0, 'group': '', 'dz': 0.01, 'use_stupakov': 1, 'lsc_bins': 1024, 'high_frequency_cutoff0': -1, 'high_frequency_cutoff1': -1}\n",
      "{'_id': 432, 'type': 'CSRDRIFT', 'name': 'D_Q601_X602', 'l': 0.150617, 'order': 0.0, 'group': '', 'dz': 0.01, 'use_stupakov': 1, 'lsc_bins': 1024, 'high_frequency_cutoff0': -1, 'high_frequency_cutoff1': -1}\n",
      "{'_id': 433, 'type': 'CSRDRIFT', 'name': 'D_X602_V602', 'l': 0.248994, 'order': 0.0, 'group': '', 'dz': 0.01, 'use_stupakov': 1, 'lsc_bins': 1024, 'high_frequency_cutoff0': -1, 'high_frequency_cutoff1': -1}\n",
      "{'_id': 434, 'type': 'CSRDRIFT', 'name': 'D_V602_Q602', 'l': 0.206377, 'order': 0.0, 'group': '', 'dz': 0.01, 'use_stupakov': 1, 'lsc_bins': 1024, 'high_frequency_cutoff0': -1, 'high_frequency_cutoff1': -1}\n",
      "{'_id': 435, 'type': 'CSRDRIFT', 'name': 'D_Q602_H602', 'l': 0.341687, 'order': 0.0, 'group': '', 'dz': 0.01, 'use_stupakov': 1, 'lsc_bins': 1024, 'high_frequency_cutoff0': -1, 'high_frequency_cutoff1': -1}\n",
      "{'_id': 436, 'type': 'CSRDRIFT', 'name': 'D_H602_Q603', 'l': 0.2643, 'order': 0.0, 'group': '', 'dz': 0.01, 'use_stupakov': 1, 'lsc_bins': 1024, 'high_frequency_cutoff0': -1, 'high_frequency_cutoff1': -1}\n",
      "{'_id': 437, 'type': 'CSRDRIFT', 'name': 'D_Q603_B603', 'l': 0.658446, 'order': 0.0, 'group': '', 'dz': 0.01, 'use_stupakov': 1, 'lsc_bins': 1024, 'high_frequency_cutoff0': -1, 'high_frequency_cutoff1': -1}\n",
      "{'_id': 438, 'type': 'CSRDRIFT', 'name': 'D_B603_X603', 'l': 0.079499, 'order': 0.0, 'group': '', 'dz': 0.01, 'use_stupakov': 1, 'lsc_bins': 1024, 'high_frequency_cutoff0': -1, 'high_frequency_cutoff1': -1}\n",
      "{'_id': 439, 'type': 'CSRDRIFT', 'name': 'D_X603_D604', 'l': 0.327029, 'order': 0.0, 'group': '', 'dz': 0.01, 'use_stupakov': 1, 'lsc_bins': 1024, 'high_frequency_cutoff0': -1, 'high_frequency_cutoff1': -1}\n",
      "{'_id': 470, 'type': 'CSRCSBEND', 'name': 'D604', 'l': 1.291513, 'angle': -0.261799, 'e2': -0.261799, 'hgap': 0.0325, 'fint': 0.67, 'k1': 0.0, 'e1': 0.0, 'tilt': 0.0, 'k2': 0.0, 'h1': 0.0, 'h2': 0.0, 'dx': 0.0, 'dy': 0.0, 'dz': 0.0, 'fse': 0.0, 'fse_dipole': 0.0, 'fse_quadrupole': 0.0, 'etilt': 0.0, 'etilt_sign': '1', 'edge1_effects': '1', 'edge2_effects': '1', 'order': 0.0, 'edge_order': 0.0, 'transport': '0', 'use_bn': '0', 'b1': 0.0, 'b2': 0.0, 'group': '', 'n_slices': 25, 'bins': 1024, 'sg_halfwidth': 1}\n",
      "{'_id': 537, 'type': 'LSCDRIFT', 'name': 'D_EID_EPD', 'l': 0.219345, 'order': 0.0, 'group': '', 'lsc': 1, 'bins': 1024, 'high_frequency_cutoff0': -1, 'high_frequency_cutoff1': -1}\n",
      "{'_id': 475, 'type': 'LSCDRIFT', 'name': 'D_B604_X604', 'l': 0.0795, 'order': 0.0, 'group': '', 'lsc': 1, 'bins': 1024, 'high_frequency_cutoff0': -1, 'high_frequency_cutoff1': -1}\n",
      "{'_id': 476, 'type': 'LSCDRIFT', 'name': 'D_X604_Q604', 'l': 0.289985, 'order': 0.0, 'group': '', 'lsc': 1, 'bins': 1024, 'high_frequency_cutoff0': -1, 'high_frequency_cutoff1': -1}\n",
      "{'_id': 477, 'type': 'LSCDRIFT', 'name': 'D_Q604_Q605', 'l': 0.138, 'order': 0.0, 'group': '', 'lsc': 1, 'bins': 1024, 'high_frequency_cutoff0': -1, 'high_frequency_cutoff1': -1}\n",
      "{'_id': 478, 'type': 'LSCDRIFT', 'name': 'D_Q605_V605', 'l': 0.23262, 'order': 0.0, 'group': '', 'lsc': 1, 'bins': 1024, 'high_frequency_cutoff0': -1, 'high_frequency_cutoff1': -1}\n",
      "{'_id': 479, 'type': 'LSCDRIFT', 'name': 'D_V605_H605', 'l': 0.25, 'order': 0.0, 'group': '', 'lsc': 1, 'bins': 1024, 'high_frequency_cutoff0': -1, 'high_frequency_cutoff1': -1}\n",
      "{'_id': 480, 'type': 'LSCDRIFT', 'name': 'D_H605_B605', 'l': 0.22845, 'order': 0.0, 'group': '', 'lsc': 1, 'bins': 1024, 'high_frequency_cutoff0': -1, 'high_frequency_cutoff1': -1}\n",
      "{'_id': 481, 'type': 'LSCDRIFT', 'name': 'D_B605_X605', 'l': 0.1186, 'order': 0.0, 'group': '', 'lsc': 1, 'bins': 1024, 'high_frequency_cutoff0': -1, 'high_frequency_cutoff1': -1}\n",
      "{'_id': 482, 'type': 'LSCDRIFT', 'name': 'D_X605_B609', 'l': 5.012066, 'order': 0.0, 'group': '', 'lsc': 1, 'bins': 1024, 'high_frequency_cutoff0': -1, 'high_frequency_cutoff1': -1}\n",
      "{'_id': 483, 'type': 'LSCDRIFT', 'name': 'D_B609_X609', 'l': 0.1186, 'order': 0.0, 'group': '', 'lsc': 1, 'bins': 1024, 'high_frequency_cutoff0': -1, 'high_frequency_cutoff1': -1}\n",
      "{'_id': 484, 'type': 'LSCDRIFT', 'name': 'D_X609_Q609', 'l': 0.25075, 'order': 0.0, 'group': '', 'lsc': 1, 'bins': 1024, 'high_frequency_cutoff0': -1, 'high_frequency_cutoff1': -1}\n",
      "{'_id': 485, 'type': 'LSCDRIFT', 'name': 'D_Q609_Q610', 'l': 0.138, 'order': 0.0, 'group': '', 'lsc': 1, 'bins': 1024, 'high_frequency_cutoff0': -1, 'high_frequency_cutoff1': -1}\n",
      "{'_id': 486, 'type': 'LSCDRIFT', 'name': 'D_Q610_V610', 'l': 0.23262, 'order': 0.0, 'group': '', 'lsc': 1, 'bins': 1024, 'high_frequency_cutoff0': -1, 'high_frequency_cutoff1': -1}\n",
      "{'_id': 487, 'type': 'LSCDRIFT', 'name': 'D_V610_H610', 'l': 0.25, 'order': 0.0, 'group': '', 'lsc': 1, 'bins': 1024, 'high_frequency_cutoff0': -1, 'high_frequency_cutoff1': -1}\n",
      "{'_id': 488, 'type': 'LSCDRIFT', 'name': 'D_H610_B610', 'l': 0.468789, 'order': 0.0, 'group': '', 'lsc': 1, 'bins': 1024, 'high_frequency_cutoff0': -1, 'high_frequency_cutoff1': -1}\n",
      "{'_id': 489, 'type': 'LSCDRIFT', 'name': 'D_B610_X610', 'l': 0.0795, 'order': 0.0, 'group': '', 'lsc': 1, 'bins': 1024, 'high_frequency_cutoff0': -1, 'high_frequency_cutoff1': -1}\n",
      "{'_id': 490, 'type': 'LSCDRIFT', 'name': 'D_X610_Q611', 'l': 2.007601, 'order': 0.0, 'group': '', 'lsc': 1, 'bins': 1024, 'high_frequency_cutoff0': -1, 'high_frequency_cutoff1': -1}\n",
      "{'_id': 491, 'type': 'LSCDRIFT', 'name': 'D_Q611_Q612', 'l': 0.138, 'order': 0.0, 'group': '', 'lsc': 1, 'bins': 1024, 'high_frequency_cutoff0': -1, 'high_frequency_cutoff1': -1}\n",
      "{'_id': 492, 'type': 'LSCDRIFT', 'name': 'D_Q612_V612', 'l': 0.23262, 'order': 0.0, 'group': '', 'lsc': 1, 'bins': 1024, 'high_frequency_cutoff0': -1, 'high_frequency_cutoff1': -1}\n",
      "{'_id': 493, 'type': 'LSCDRIFT', 'name': 'D_V612_H612', 'l': 0.25, 'order': 0.0, 'group': '', 'lsc': 1, 'bins': 1024, 'high_frequency_cutoff0': -1, 'high_frequency_cutoff1': -1}\n",
      "{'_id': 494, 'type': 'LSCDRIFT', 'name': 'D_H612_B612', 'l': 0.221, 'order': 0.0, 'group': '', 'lsc': 1, 'bins': 1024, 'high_frequency_cutoff0': -1, 'high_frequency_cutoff1': -1}\n",
      "{'_id': 495, 'type': 'LSCDRIFT', 'name': 'D_B612_X612', 'l': 0.0795, 'order': 0.0, 'group': '', 'lsc': 1, 'bins': 1024, 'high_frequency_cutoff0': -1, 'high_frequency_cutoff1': -1}\n",
      "{'_id': 496, 'type': 'LSCDRIFT', 'name': 'D_X612_T612', 'l': 0.159, 'order': 0.0, 'group': '', 'lsc': 1, 'bins': 1024, 'high_frequency_cutoff0': -1, 'high_frequency_cutoff1': -1}\n",
      "{'_id': 497, 'type': 'LSCDRIFT', 'name': 'D_T612_B613', 'l': 0.34153, 'order': 0.0, 'group': '', 'lsc': 1, 'bins': 1024, 'high_frequency_cutoff0': -1, 'high_frequency_cutoff1': -1}\n",
      "{'_id': 498, 'type': 'LSCDRIFT', 'name': 'D_B613_X613', 'l': 0.1186, 'order': 0.0, 'group': '', 'lsc': 1, 'bins': 1024, 'high_frequency_cutoff0': -1, 'high_frequency_cutoff1': -1}\n",
      "{'_id': 499, 'type': 'LSCDRIFT', 'name': 'D_X613_MK_END_FLANGE', 'l': 2.8076, 'order': 0.0, 'group': '', 'lsc': 1, 'bins': 1024, 'high_frequency_cutoff0': -1, 'high_frequency_cutoff1': -1}\n"
     ]
    }
   ],
   "source": [
    "# Check for edits\n",
    "edit_elements(m, target_beamline_index, lscdrift_modification=None, rcfw_modification=None)"
   ]
  },
  {
   "cell_type": "code",
   "execution_count": 78,
   "id": "4fb9cca2",
   "metadata": {
    "collapsed": true,
    "jupyter": {
     "outputs_hidden": true
    }
   },
   "outputs": [
    {
     "data": {
      "text/plain": [
       "{'commands': local('/home/vagrant/jupyter/research/fastfelo/FAST/ELEGANT/compression_study/dummy.ele'),\n",
       " 'lattice': local('/home/vagrant/jupyter/research/fastfelo/FAST/ELEGANT/compression_study/injectortodump.lte'),\n",
       " 'output_files': ['dummy.twi',\n",
       "  'injector_BC1_cryo.GONI',\n",
       "  'injector_BC1_cryo.X106',\n",
       "  'injector_BC1_cryo.X107',\n",
       "  'injector_BC1_cryo.X108',\n",
       "  'injector_BC1_cryo.X109',\n",
       "  'injector_BC1_cryo.X111',\n",
       "  'injector_BC1_cryo.X113',\n",
       "  'injector_BC1_cryo.X115',\n",
       "  '%s.X117',\n",
       "  'injector_BC1_cryo.X118',\n",
       "  'injector_BC1_cryo.X120',\n",
       "  'injector_BC1_cryo.X121',\n",
       "  '%s.X124',\n",
       "  'injector_BC1_cryo.X129',\n",
       "  'cryotoFODOend.X440',\n",
       "  'cryotoFODOend.X441',\n",
       "  'cryotoFODOend.X444',\n",
       "  'cryotoFODOend.X450',\n",
       "  'cryotoFODOend.X455',\n",
       "  'cryotoFODOend.X460',\n",
       "  'cryotoFODOend.X465',\n",
       "  'cryotoFODOend.X470',\n",
       "  'cryotoFODOend.X475',\n",
       "  'cryotoFODOend.X480',\n",
       "  '%s.X502',\n",
       "  'FODOend_todump.X502_EID',\n",
       "  '%s.X505',\n",
       "  'FODOend_todump.X505_EID',\n",
       "  '%s.X506',\n",
       "  'FODOend_todump.X506_EID',\n",
       "  '%s.X507',\n",
       "  '%s.X508',\n",
       "  '%s.X512',\n",
       "  '%s.X513',\n",
       "  '%s.X514',\n",
       "  'FODOend_todump.X601',\n",
       "  'FODOend_todump.X602',\n",
       "  'FODOend_todump.X603',\n",
       "  'FODOend_todump.X604',\n",
       "  'FODOend_todump.X605',\n",
       "  'FODOend_todump.X609',\n",
       "  'FODOend_todump.X610',\n",
       "  'FODOend_todump.X612',\n",
       "  '%s.X612_ESD',\n",
       "  'FODOend_todump.X613',\n",
       "  '%s.X613_ESD',\n",
       "  '%s.X701',\n",
       "  '%s.X702',\n",
       "  '%s.X703',\n",
       "  '%s.XICS']}"
      ]
     },
     "execution_count": 78,
     "metadata": {},
     "output_type": "execute_result"
    }
   ],
   "source": [
    "# Write out the model with LSC parameters set up to the end of Bunch Compressor\n",
    "m.write_files('lattice_collective_effects')"
   ]
  },
  {
   "cell_type": "code",
   "execution_count": null,
   "id": "f90b9f1f",
   "metadata": {},
   "outputs": [],
   "source": []
  }
 ],
 "metadata": {
  "kernelspec": {
   "display_name": "Python 3",
   "language": "python",
   "name": "py3"
  },
  "language_info": {
   "codemirror_mode": {
    "name": "ipython",
    "version": 3
   },
   "file_extension": ".py",
   "mimetype": "text/x-python",
   "name": "python",
   "nbconvert_exporter": "python",
   "pygments_lexer": "ipython3",
   "version": "3.7.2"
  }
 },
 "nbformat": 4,
 "nbformat_minor": 5
}
